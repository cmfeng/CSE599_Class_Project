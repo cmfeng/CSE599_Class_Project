{
 "cells": [
  {
   "cell_type": "markdown",
   "metadata": {},
   "source": [
    "Catherine Kuhn <br>\n",
    "Homework #4 <br>\n",
    "CSE 599 <br>\n",
    "\n",
    "*Unit Tests: The Struggle Is Real*\n",
    "\n",
    "<img src=\"//giphy.com/embed/11xBk5MoWjrYoE\" width=\"480\" height=\"203\" frameBorder=\"0\" class=\"giphy-embed\" allowFullScreen></iframe><p><a href=\"https://giphy.com/gifs/11xBk5MoWjrYoE\">via GIPHY</a></p>"
   ]
  },
  {
   "cell_type": "markdown",
   "metadata": {
    "collapsed": true
   },
   "source": [
    "## 1) Use cases\n",
    "\n",
    "Each of these use cases allows the user to explore the data at greater depth. \n",
    "\n",
    "\n",
    "| Commands        | Use Cases   |   \n",
    "| ------------- |--------------:|  \n",
    "|1. compare_lakes    | Selects variables to plot for each of the 11 lakes|  \n",
    "|2. plot_CH4    | Choose  variables to plot against methane concentrations      |  \n",
    "|3. plot_fdom | Choose  variables to plot against flourescent dissolved organic carbon (fdom)|  \n",
    "|4. check_nulls | checks for columns that have bad or no data     | \n",
    "|5. compare_methods | Compares Measured vs. Modelled Flux Rates    | "
   ]
  },
  {
   "cell_type": "markdown",
   "metadata": {
    "collapsed": true
   },
   "source": [
    "## 2. Design Documentation"
   ]
  },
  {
   "cell_type": "markdown",
   "metadata": {},
   "source": [
    "To grade my markdown document, open Design.md in this repository or read below. "
   ]
  },
  {
   "cell_type": "markdown",
   "metadata": {},
   "source": [
    "******************************************************************************************************************\n",
    "*This document describes the specifications for each component and function associated with the five use cases described in Question 1.* \n",
    "\n",
    "### compareLakes\n",
    "- **Name**: compareLakes\n",
    "- **Function**: This function allows users to create a bar plot comparing different chosen variables across all eleven lakes.\n",
    "- **Input**: This requires lakes.cvs data. This also requires users to choose a variable to plot using the ipywidgets.\n",
    "- **Output**: A barplot exported as a .png file. \n",
    "- **Interactions**: \n",
    "\n",
    "This is an example of what the psuedocode might look like.  \n",
    "```sh\n",
    "$ load required packages  \n",
    "$ call in csv data  \n",
    "$ assign date-time index  \n",
    "\n",
    "$ create widget  \n",
    "$ ask for user input to widget  \n",
    "$ plot results  \n",
    "$ export results   \n",
    "```\n",
    "\n",
    "### plot_CH4\n",
    "- **Name**: plot_CH4\n",
    "- **Function**: This function allows users to create a scatterplot comparing methane concentrations to several other variables shown to be important for methane production in aquatic systems.\n",
    "- **Input**: This requires the outputs from merge_data(). This also requires users to choose a variable to plot using the ipywidgets.\n",
    "- **Output**: A scatterplot exported as a .png file. \n",
    "- **Interactions**: This function relies on a clean set of input data, which the merge_data function provides. \n",
    "\n",
    "### merge_data\n",
    "- **Name**: merge_data\n",
    "- **Function**: This function pulls in data from the lakes.csv and the flux.csv file and concatenates them using the lake name as a key. \n",
    "- **Input**: This requires lakes.cvs and flux.csv data. This also requires users to choose a variable to plot using the ipywidgets.\n",
    "- **Output**: A new .csv file containing both the input files merged together. \n",
    "- **Interactions**: \n",
    "\n",
    "### check_nulls\n",
    "- **Name**: checkNulls\n",
    "- **Function**: This function allows users to check for nulls in the lakes.csv dataset. \n",
    "- **Input**: This requires lakes.cvs data. This also requires users to choose a variable to plot using the ipywidgets.\n",
    "- **Output**: A scatterplot exported as a .png file. \n",
    "- **Interactions**: \n",
    "\n",
    "### compare_methods\n",
    "- **Name**: compareMethods\n",
    "- **Function**: This function allows users to create a barplot comparing wind flux estimates from a model to several directly measured flux estimates\n",
    "- **Input**: This requires lakes.cvs data. This also requires users to choose a variable to plot using the ipywidgets.\n",
    "- **Output**: A scatterplot exported as a .png file. \n",
    "- **Interactions**: \n",
    "\n",
    "******************************************************************************************************************\n"
   ]
  },
  {
   "cell_type": "markdown",
   "metadata": {},
   "source": [
    "## 3. Function"
   ]
  },
  {
   "cell_type": "code",
   "execution_count": 1,
   "metadata": {
    "collapsed": false
   },
   "outputs": [
    {
     "data": {
      "text/html": [
       "<div>\n",
       "<table border=\"1\" class=\"dataframe\">\n",
       "  <thead>\n",
       "    <tr style=\"text-align: right;\">\n",
       "      <th></th>\n",
       "      <th>Site</th>\n",
       "      <th>Time</th>\n",
       "      <th>Temp C</th>\n",
       "      <th>Stdev Temp C</th>\n",
       "      <th>Conductivty</th>\n",
       "      <th>StDev Conductivity</th>\n",
       "      <th>Sal psu</th>\n",
       "      <th>Stdev Sal psu</th>\n",
       "      <th>ODO mgperL</th>\n",
       "      <th>Stdev ODO mgperL</th>\n",
       "      <th>...</th>\n",
       "      <th>Site</th>\n",
       "      <th>Time</th>\n",
       "      <th>Latitude dd.dd</th>\n",
       "      <th>Longitude dd.dd</th>\n",
       "      <th>Temperature</th>\n",
       "      <th>CH4</th>\n",
       "      <th>CH4 Direct Flux</th>\n",
       "      <th>k direct</th>\n",
       "      <th>k model</th>\n",
       "      <th>CH4 flux model</th>\n",
       "    </tr>\n",
       "  </thead>\n",
       "  <tbody>\n",
       "    <tr>\n",
       "      <th>0</th>\n",
       "      <td>Greenpepper</td>\n",
       "      <td>6/14/14 11:00</td>\n",
       "      <td>13.623091</td>\n",
       "      <td>0.016202</td>\n",
       "      <td>715.409091</td>\n",
       "      <td>0.38847</td>\n",
       "      <td>0.45</td>\n",
       "      <td>1.160000e-16</td>\n",
       "      <td>10.324545</td>\n",
       "      <td>0.021616</td>\n",
       "      <td>...</td>\n",
       "      <td>Greenpepper Lake</td>\n",
       "      <td>40342.45833</td>\n",
       "      <td>66.095279</td>\n",
       "      <td>-146.731136</td>\n",
       "      <td>13.6</td>\n",
       "      <td>0.33</td>\n",
       "      <td>3940</td>\n",
       "      <td>12</td>\n",
       "      <td>0.52</td>\n",
       "      <td>171</td>\n",
       "    </tr>\n",
       "  </tbody>\n",
       "</table>\n",
       "<p>1 rows × 28 columns</p>\n",
       "</div>"
      ],
      "text/plain": [
       "          Site           Time     Temp C  Stdev Temp C  Conductivty  \\\n",
       "0  Greenpepper  6/14/14 11:00  13.623091      0.016202   715.409091   \n",
       "\n",
       "   StDev Conductivity  Sal psu  Stdev Sal psu  ODO mgperL  Stdev ODO mgperL  \\\n",
       "0             0.38847     0.45   1.160000e-16   10.324545          0.021616   \n",
       "\n",
       "        ...                     Site         Time  Latitude dd.dd  \\\n",
       "0       ...        Greenpepper Lake   40342.45833       66.095279   \n",
       "\n",
       "   Longitude dd.dd  Temperature   CH4  CH4 Direct Flux  k direct k model  \\\n",
       "0      -146.731136         13.6  0.33             3940        12    0.52   \n",
       "\n",
       "   CH4 flux model  \n",
       "0             171  \n",
       "\n",
       "[1 rows x 28 columns]"
      ]
     },
     "execution_count": 1,
     "metadata": {},
     "output_type": "execute_result"
    }
   ],
   "source": [
    "from lake_utils import merge_data\n",
    "data = merge_data()\n",
    "data.head(1)"
   ]
  },
  {
   "cell_type": "markdown",
   "metadata": {},
   "source": [
    "**Create widget with options for plotting**"
   ]
  },
  {
   "cell_type": "code",
   "execution_count": 2,
   "metadata": {
    "collapsed": false
   },
   "outputs": [],
   "source": [
    "names = list(data.columns.values)"
   ]
  },
  {
   "cell_type": "code",
   "execution_count": 3,
   "metadata": {
    "collapsed": false
   },
   "outputs": [],
   "source": [
    "from IPython.display import display\n",
    "import ipywidgets as widgets\n",
    "from ipywidgets import interact\n",
    "\n",
    "w = widgets.Dropdown(\n",
    "    options= names,\n",
    "    value='Dissolved Oxygen %',\n",
    "    description='Choose a Variable to Plot Against Methane:',\n",
    "    background_color='#7dc4c6', \n",
    ")\n",
    "\n",
    "display(w)"
   ]
  },
  {
   "cell_type": "code",
   "execution_count": 4,
   "metadata": {
    "collapsed": false
   },
   "outputs": [],
   "source": [
    "xcol = data['CH4']\n",
    "ycol = data[w.value]"
   ]
  },
  {
   "cell_type": "code",
   "execution_count": 5,
   "metadata": {
    "collapsed": false
   },
   "outputs": [
    {
     "name": "stdout",
     "output_type": "stream",
     "text": [
      "Great job using my widget\n"
     ]
    },
    {
     "data": {
      "image/png": "[encoded data removed]",
      "text/plain": [
       "<matplotlib.figure.Figure at 0x1027b3050>"
      ]
     },
     "metadata": {},
     "output_type": "display_data"
    }
   ],
   "source": [
    "from lake_utils import plot_CH4\n",
    "%matplotlib inline\n",
    "plot_CH4(xcol, ycol, \"Methane Plot\")"
   ]
  },
  {
   "cell_type": "markdown",
   "metadata": {},
   "source": [
    "To conduct the unit tests, merely make sure you are in the analyais folder and type \n",
    "    \n",
    "    nosetests unit_test,py"
   ]
  },
  {
   "cell_type": "markdown",
   "metadata": {
    "collapsed": false
   },
   "source": [
    "Stuff I wish I knew how to do:\n",
    "- Pass on the axis titles as functions. See  this stackoverflow for help\n",
    "http://stackoverflow.com/questions/17000620/add-axis-label-to-plot-in-matplotlib-by-passing-them-as-arguments-to-plot\n",
    "- Add lake names for each individual data point \n",
    "- remove the horribly ugly grey background\n"
   ]
  }
 ],
 "metadata": {
  "kernelspec": {
   "display_name": "Python 2",
   "language": "python",
   "name": "python2"
  },
  "language_info": {
   "codemirror_mode": {
    "name": "ipython",
    "version": 2
   },
   "file_extension": ".py",
   "mimetype": "text/x-python",
   "name": "python",
   "nbconvert_exporter": "python",
   "pygments_lexer": "ipython2",
   "version": "2.7.11"
  }
 },
 "nbformat": 4,
 "nbformat_minor": 0
}
