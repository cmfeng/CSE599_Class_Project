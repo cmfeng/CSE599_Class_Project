{
 "cells": [
  {
   "cell_type": "markdown",
   "metadata": {},
   "source": [
    "# Progress--Four detailed steps\n",
    "## 1. Data cleaning\n",
    "* Smooth the time series data using a moving average\n",
    "* Reduce the dimensionality \n",
    "\n",
    "## 2. Statistical validation\n",
    "* Motivation\n",
    "* Package \n",
    "  * Scatterplot with user input\n",
    "  * table of regression parameters)\n",
    "  \n",
    "## 3. Time series visualization\n",
    "\n",
    "## 4. Spatial visualization"
   ]
  },
  {
   "cell_type": "markdown",
   "metadata": {},
   "source": [
    "\n",
    "# Deliverables for next period\n",
    "* Data(cleaned, reduced) \n",
    "* Package for statistical validation\n",
    "* Function for time series plotting\n",
    "* Maps in Earth Engine\n"
   ]
  },
  {
   "cell_type": "markdown",
   "metadata": {},
   "source": [
    "# Challenges\n",
    "* Earth Engine (Interface between EE and Python)\n",
    "* Function with user inputs from comobox\n",
    "* Space and time statistics\n"
   ]
  }
 ],
 "metadata": {
  "kernelspec": {
   "display_name": "Python 3",
   "language": "python",
   "name": "python3"
  },
  "language_info": {
   "codemirror_mode": {
    "name": "ipython",
    "version": 3
   },
   "file_extension": ".py",
   "mimetype": "text/x-python",
   "name": "python",
   "nbconvert_exporter": "python",
   "pygments_lexer": "ipython3",
   "version": "3.5.1"
  }
 },
 "nbformat": 4,
 "nbformat_minor": 0
}
