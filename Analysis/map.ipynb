{
 "cells": [
  {
   "cell_type": "markdown",
   "metadata": {},
   "source": [
    "# Generating a basic map image in Earth Engine"
   ]
  },
  {
   "cell_type": "markdown",
   "metadata": {},
   "source": [
    "## Install ee-python\n",
    "\n",
    "Follow the installation directions found here:\n",
    "\n",
    "https://github.com/catherinekuhn/CloudtoStreet/blob/master/Python%20API%20directions.ipynb\n",
    "\n",
    "## Check your environment\n",
    "Make sure that you are in the correct environment. To check your current environment, type the following. The environment you are in will have a star next to it. \n",
    "\n",
    "        conda info --envs\n",
    "\n",
    "If you are not in the ee-python environment, you can switch into it using \n",
    "\n",
    "        source activate ee-python\n"
   ]
  },
  {
   "cell_type": "code",
   "execution_count": 1,
   "metadata": {
    "collapsed": false
   },
   "outputs": [
    {
     "name": "stdout",
     "output_type": "stream",
     "text": [
      "{u'bands': [{u'crs': u'EPSG:4326', u'crs_transform': [0.0008333333535119891, 0.0, -180.0, 0.0, -0.0008333333535119891, 60.0], u'id': u'elevation', u'data_type': {u'max': 32767, u'type': u'PixelType', u'precision': u'int', u'min': -32768}, u'dimensions': [432000, 144000]}], u'version': 1427492341199000, u'type': u'Image', u'id': u'srtm90_v4', u'properties': {u'system:time_end': 951177600000, u'system:time_start': 950227200000}}\n"
     ]
    }
   ],
   "source": [
    "# Import the Earth Engine Python Package into Python environment.\n",
    "import ee\n",
    "import ee.mapclient\n",
    "\n",
    "# Initialize the Earth Engine object, using the authentication credentials.\n",
    "ee.Initialize()\n",
    "\n",
    "# Print the information for an image asset. the 'srtm90_v4 file is a digital elevation model. \n",
    "# that is housed in Google's cloud and has an elevation value for every pixel across the whole earth \n",
    "# at a resolution of 30 meters. That is the map you see below in the static notebook. \n",
    "image = ee.Image('srtm90_v4')\n",
    "print(image.getInfo())\n",
    "\n",
    "#celebrate the metadata!!"
   ]
  },
  {
   "cell_type": "code",
   "execution_count": 2,
   "metadata": {
    "collapsed": false
   },
   "outputs": [
    {
     "data": {
      "text/html": [
       "<img src=\"https://earthengine.googleapis.com//api/thumb?thumbid=d3309596490160c51ecf1e0ef470ccf3&token=2e9d7c7661c71059e271a70e892c0b59\"/>"
      ],
      "text/plain": [
       "<IPython.core.display.Image object>"
      ]
     },
     "execution_count": 2,
     "metadata": {},
     "output_type": "execute_result"
    }
   ],
   "source": [
    "from IPython.display import Image\n",
    "Image(url=image.getThumbUrl({'min':0, 'max': 3000}))"
   ]
  },
  {
   "cell_type": "code",
   "execution_count": null,
   "metadata": {
    "collapsed": false
   },
   "outputs": [],
   "source": [
    "\"\"\"Display an image given its ID.\"\"\"\n",
    "\n",
    "import ee\n",
    "import ee.mapclient\n",
    "\n",
    "image = ee.Image('srtm90_v4')\n",
    "ee.mapclient.addToMap(image, {'min': 0, 'max': 3000})\n",
    "ee.mapclient.centerMap(-91.1646, 43.8438, 10)"
   ]
  },
  {
   "cell_type": "code",
   "execution_count": 3,
   "metadata": {
    "collapsed": true
   },
   "outputs": [],
   "source": [
    "#!/usr/bin/env python\n",
    "\"\"\"Buffer Example.\n",
    "\n",
    "Display the area within 2 kilometers of any San Francisco BART station.\n",
    "\"\"\"\n",
    "\n",
    "import ee\n",
    "import ee.mapclient\n",
    "\n",
    "\n",
    "ee.mapclient.centerMap(-122.4, 37.7, 11)\n",
    "\n",
    "bart_stations = ee.FeatureCollection(\n",
    "    'ft:1xCCZkVn8DIkB7i7RVkvsYWxAxsdsQZ6SbD9PCXw')\n",
    "buffered = bart_stations.map(lambda f: f.buffer(2000))\n",
    "unioned = buffered.union()\n",
    "\n",
    "ee.mapclient.addToMap(unioned, {'color': '800080'})"
   ]
  },
  {
   "cell_type": "code",
   "execution_count": null,
   "metadata": {
    "collapsed": false
   },
   "outputs": [],
   "source": [
    "from geopandas import GeoDataFrame\n",
    "from shapely.geometry import shape\n",
    "\n",
    "\n",
    "def fc2df(fc):\n",
    "    # Convert a FeatureCollection into a pandas DataFrame\n",
    "   \n",
    "    # Features is a list of dict with the output\n",
    "    features = fc.getInfo()['features']\n",
    "\n",
    "    dictarr = []\n",
    "      \n",
    "    for f in features:\n",
    "        # Store all attributes in a dict\n",
    "        attr = f['properties']\n",
    "        # and treat geometry separately\n",
    "        attr['geometry'] = f['geometry']  # GeoJSON Feature!b\n",
    "        # attr['geometrytype'] = f['geometry']['type']\n",
    "        dictarr.append(attr)\n",
    "       \n",
    "    df = GeoDataFrame(dictarr)\n",
    "    # Convert GeoJSON features to shape\n",
    "    df['geometry'] = map(lambda s: shape(s), df.geometry)    \n",
    "    return df\n",
    "# End fc2df"
   ]
  },
  {
   "cell_type": "code",
   "execution_count": null,
   "metadata": {
    "collapsed": false
   },
   "outputs": [],
   "source": [
    "col = ee.FeatureCollection(\"ft:1KLL3aOt7-mavHuL_uyLLPXOf7vUVk6v08XbzIepq\");"
   ]
  },
  {
   "cell_type": "code",
   "execution_count": null,
   "metadata": {
    "collapsed": true
   },
   "outputs": [],
   "source": [
    "UCshed = "
   ]
  },
  {
   "cell_type": "code",
   "execution_count": null,
   "metadata": {
    "collapsed": false
   },
   "outputs": [],
   "source": [
    "# Select the 'Sonoran desert' feature from the TNC Ecoregions fusion table.\n",
    "fc1 = (ee.FeatureCollection('ft:1Ec8IWsP8asxN-ywSqgXWMuBaxI6pPaeh6hC64lA')\n",
    "      .filter(ee.Filter().eq('ECO_NAME', 'Sonoran desert')))\n",
    "\n",
    "# Select the USGS feature collection of sampling data from Summer 2015\n",
    "fc2 = ee.FeatureCollection(\"ft:1KLL3aOt7-mavHuL_uyLLPXOf7vUVk6v08XbzIepq\");\n",
    "\n",
    "# Paint it into a blank image.\n",
    "image1 = ee.Image(0).mask(0)\n",
    "ee.mapclient.addToMap(image1.paint(fc, 0, 5))\n",
    "#Image(url=image1.getThumbUrl())\n",
    "\n",
    "#image2 = ee.Image(0).mask(0)\n",
    "#ee.mapclient.addToMap(image2.paint(fc, 0, 5))"
   ]
  }
 ],
 "metadata": {
  "kernelspec": {
   "display_name": "Python 2",
   "language": "python",
   "name": "python2"
  },
  "language_info": {
   "codemirror_mode": {
    "name": "ipython",
    "version": 2
   },
   "file_extension": ".py",
   "mimetype": "text/x-python",
   "name": "python",
   "nbconvert_exporter": "python",
   "pygments_lexer": "ipython2",
   "version": "2.7.11"
  }
 },
 "nbformat": 4,
 "nbformat_minor": 0
}
