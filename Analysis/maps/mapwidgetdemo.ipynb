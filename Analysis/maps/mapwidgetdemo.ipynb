{
 "metadata": {
  "name": "",
  "signature": "sha256:fd137bab1b1ea1f103fb352bf0312cc3e2d1b82048ec37237bb0c2e52ed8e8de"
 },
 "nbformat": 3,
 "nbformat_minor": 0,
 "worksheets": [
  {
   "cells": [
    {
     "cell_type": "markdown",
     "metadata": {},
     "source": [
      "# UW Big Rivers Mapping Tool\n"
     ]
    },
    {
     "cell_type": "markdown",
     "metadata": {},
     "source": [
      "*The purpose of this code is to demonstrate the potential of Earth Engine for \n",
      "building maps driven by python code structures and visualized inline in an iPython notebook.* "
     ]
    },
    {
     "cell_type": "markdown",
     "metadata": {},
     "source": [
      "<img src=\"logo.png\">"
     ]
    },
    {
     "cell_type": "markdown",
     "metadata": {},
     "source": [
      "## Setting up your work environment"
     ]
    },
    {
     "cell_type": "markdown",
     "metadata": {},
     "source": [
      "Initialize the Earth Engine object, using the authentication credentials. These two lines of code require a special environment and authentication procedure to work. To read more about how to set up the authentication process, please visit: https://github.com/catherinekuhn/ee-python/ee-python/ and select the \"Earth Engine API Instructions\" notebook for detailed instructions. Before we actually initialize, make sure you are in the correct environment. You can do this by typing the following command into the terminal. \n",
      "    \n",
      "    conda info --envs\n",
      "    \n",
      "If you aren't in the ee-python environments switch to it by using the following (exclude source if using Windows) \n",
      "\n",
      "    source activate ee-python"
     ]
    },
    {
     "cell_type": "markdown",
     "metadata": {},
     "source": [
      "If you have followed the intallation instructions, you are now ready to use the following code."
     ]
    },
    {
     "cell_type": "code",
     "collapsed": false,
     "input": [
      "# Call into the web API and authenticate your user credentials\n",
      "import ee\n",
      "\n",
      "ee.Initialize()"
     ],
     "language": "python",
     "metadata": {},
     "outputs": [],
     "prompt_number": 1
    },
    {
     "cell_type": "code",
     "collapsed": false,
     "input": [
      "# Import the packages you need\n",
      "%matplotlib inline\n",
      "\n",
      "from __future__ import print_function # For py 2.7 compat\n",
      "\n",
      "\n",
      "import datetime\n",
      "import IPython\n",
      "from IPython.html import widgets\n",
      "from IPython.display import display\n",
      "from IPython.utils import traitlets\n",
      "from IPython.core.display import Javascript\n"
     ],
     "language": "python",
     "metadata": {},
     "outputs": [],
     "prompt_number": 2
    },
    {
     "cell_type": "code",
     "collapsed": false,
     "input": [
      "# Check your IPython version. This script is happiness when using Ipython Version 2.0.0\n",
      "IPython.__version__"
     ],
     "language": "python",
     "metadata": {},
     "outputs": [
      {
       "metadata": {},
       "output_type": "pyout",
       "prompt_number": 3,
       "text": [
        "'2.0.0'"
       ]
      }
     ],
     "prompt_number": 3
    },
    {
     "cell_type": "markdown",
     "metadata": {},
     "source": [
      "## Build a test image\n",
      "\n",
      "This will help you quickly double check you are in the right place. In this step, we are calling in a global SRTM elevation dataset from Earth Engine and visualizing quickly on the fly in our notebook. "
     ]
    },
    {
     "cell_type": "code",
     "collapsed": false,
     "input": [
      "image = ee.Image('srtm90_v4')\n",
      "from IPython.display import Image\n",
      "Image(url=image.getThumbUrl({'min':0, 'max': 3000}))"
     ],
     "language": "python",
     "metadata": {},
     "outputs": [
      {
       "html": [
        "<img src=\"https://earthengine.googleapis.com//api/thumb?thumbid=d3309596490160c51ecf1e0ef470ccf3&token=45f180f900a4099f724cf22a083cd252\"/>"
       ],
       "metadata": {},
       "output_type": "pyout",
       "prompt_number": 4,
       "text": [
        "<IPython.core.display.Image at 0x10a0dfa90>"
       ]
      }
     ],
     "prompt_number": 4
    },
    {
     "cell_type": "markdown",
     "metadata": {},
     "source": [
      "## Build a Map Widget"
     ]
    },
    {
     "cell_type": "markdown",
     "metadata": {},
     "source": [
      "Run Google Developer Tyler Erickson's ever-useful interactive widget to enable map interactive zoomable map visualization of our data."
     ]
    },
    {
     "cell_type": "code",
     "collapsed": false,
     "input": [
      "%run 'define_google_maps_interactive_widget.ipynb'"
     ],
     "language": "python",
     "metadata": {},
     "outputs": [
      {
       "javascript": [
        "\n",
        "require([\"widgets/js/widget\"], function(WidgetManager){\n",
        "    var maps = [];\n",
        "    \n",
        "    // Define the GoogleMapsView\n",
        "    var GoogleMapsView = IPython.DOMWidgetView.extend({\n",
        "        \n",
        "        render: function() {\n",
        "            // Resize widget element to be 100% wide\n",
        "            this.$el.css('width', '100%');\n",
        "\n",
        "            // iframe source;  just enough to load Google Maps and let us poll whether initialization is complete\n",
        "            var src='<html style=\"height:100%\"><head>' +\n",
        "                '<scr'+'ipt src=\"http://maps.googleapis.com/maps/api/js?sensor=false\"></scr'+'ipt>' +\n",
        "                '<scr'+'ipt>google.maps.event.addDomListener(window,\"load\",function(){ready=true});</scr'+'ipt>' +\n",
        "                '</head>' +\n",
        "                '<body style=\"height:100%; margin:0px; padding:0px\"></body></html>';\n",
        "            \n",
        "            // Create the Google Maps container element.\n",
        "            this.$iframe = $('<iframe />')\n",
        "                .css('width', '100%')\n",
        "                .css('height', '1000px')\n",
        "                .attr('srcdoc', src)\n",
        "                .appendTo(this.$el);\n",
        "                        \n",
        "            var self = this; // hold onto this for initMapWhenReady\n",
        "\n",
        "            // Wait until maps library has finished loading in iframe, then create map\n",
        "            function initMapWhenReady() {\n",
        "                // Iframe document and window\n",
        "                var doc = self.$iframe[0].contentDocument;\n",
        "                var win = self.$iframe[0].contentWindow;\n",
        "                if (!win || !win.ready) {\n",
        "                    // Maps library not yet loaded;  try again soon\n",
        "                    setTimeout(initMapWhenReady, 20);\n",
        "                    return;\n",
        "                }\n",
        "\n",
        "                // Maps library finished loading.  Build map now.\n",
        "                var mapOptions = {\n",
        "                    center: new win.google.maps.LatLng(self.model.get('lat'), self.model.get('lng')),\n",
        "                    zoom: self.model.get('zoom')\n",
        "                };\n",
        "                var mapDiv = $('<div />')\n",
        "                    .css('width', '100%')\n",
        "                    .css('height', '100%')\n",
        "                    .appendTo($(doc.body));\n",
        "                self.map = new win.google.maps.Map(mapDiv[0], mapOptions);\n",
        "                \n",
        "                \n",
        "                // Add an event listeners for user panning, zooming, and resizing map\n",
        "                // TODO(rsargent): Bind self across all methods, and save some plumbing here\n",
        "                win.google.maps.event.addListener(self.map, 'bounds_changed', function () {\n",
        "                    self.handleBoundsChanged();\n",
        "                });\n",
        "                \n",
        "                self.initializeLayersControl();\n",
        "            }\n",
        "            initMapWhenReady();\n",
        "        },\n",
        "        \n",
        "        LayersControl: function(widget, controlDiv, map) {\n",
        "            var win = widget.$iframe[0].contentWindow;\n",
        "            var chicago = new win.google.maps.LatLng(41.850033, -87.6500523);\n",
        "\n",
        "            // Set CSS styles for the DIV containing the control\n",
        "            // Setting padding to 5 px will offset the control\n",
        "            // from the edge of the map.\n",
        "            controlDiv.style.padding = '5px';\n",
        "\n",
        "            // Set CSS for the control border.\n",
        "            var $controlUI = $('<div />')\n",
        "                .css('backgroundColor', 'white')\n",
        "                .css('borderStyle', 'solid')\n",
        "                .css('borderWidth', '1px')\n",
        "                .css('cursor', 'pointer')\n",
        "                .css('textAlign', 'center')\n",
        "                .appendTo($(controlDiv));\n",
        "            \n",
        "            // Set CSS for the control interior.\n",
        "            var $controlContents = $('<div />')\n",
        "                .css('fontFamily', 'Arial,sans-serif')\n",
        "                .css('fontSize', '12px')\n",
        "                .css('paddingLeft', '4px')\n",
        "                .css('paddingRight', '4px')\n",
        "                .css('paddingTop', '0px')\n",
        "                .css('paddingBottom', '0px')\n",
        "                .appendTo($controlUI);\n",
        "            \n",
        "            this.$controlTable = $('<table />')\n",
        "                .append($('<tr><td colspan=2>Layers</td></tr>'))\n",
        "                .appendTo($controlContents);\n",
        "        },\n",
        "\n",
        "        initializeLayersControl: function() {\n",
        "            var doc = this.$iframe[0].contentDocument;\n",
        "            var win = this.$iframe[0].contentWindow;\n",
        "\n",
        "            // Create the DIV to hold the control and call the LayersControl() constructor\n",
        "            // passing in this DIV.\n",
        "    \n",
        "            var layersControlDiv = document.createElement('div');\n",
        "            this.layersControl = new this.LayersControl(this, layersControlDiv, this.map);\n",
        "\n",
        "            layersControlDiv.index = 1;\n",
        "            this.map.controls[win.google.maps.ControlPosition.TOP_RIGHT].push(layersControlDiv);\n",
        "        },\n",
        "        \n",
        "        // Map geometry changed (pan, zoom, resize)\n",
        "        handleBoundsChanged: function() {\n",
        "            this.model.set('lng', this.map.getCenter().lng());\n",
        "            this.model.set('lat', this.map.getCenter().lat());\n",
        "            this.model.set('zoom', this.map.getZoom());\n",
        "            var bounds = this.map.getBounds();\n",
        "            var playgroundCompatible = [bounds.getSouthWest().lng(), bounds.getSouthWest().lat(),\n",
        "                                        bounds.getNorthEast().lng(), bounds.getNorthEast().lat()];\n",
        "            this.model.set('bounds', playgroundCompatible);\n",
        "            this.touch();\n",
        "        },\n",
        "        \n",
        "        // Receive custom messages from Python backend\n",
        "        on_msg: function(msg) {\n",
        "            var win = this.$iframe[0].contentWindow;\n",
        "            if (msg.command == 'addLayer') {\n",
        "                this.addLayer(msg.mapid, msg.token, msg.name, msg.visible);\n",
        "            } else if (msg.command == 'center') {\n",
        "                this.map.setCenter(new win.google.maps.LatLng(msg.lat, msg.lng));\n",
        "                if (msg.zoom !== null) {\n",
        "                    this.map.setZoom(msg.zoom);\n",
        "                }\n",
        "            }\n",
        "        },\n",
        "        \n",
        "        // Add an Earth Engine layer\n",
        "        addLayer: function(mapid, token, name, visible) {\n",
        "            var win = this.$iframe[0].contentWindow;\n",
        "            var eeMapOptions = {\n",
        "                getTileUrl: function(tile, zoom) {\n",
        "                    var url = ['https://earthengine.googleapis.com/map',\n",
        "                               mapid, zoom, tile.x, tile.y].join(\"/\");\n",
        "                    url += '?token=' + token\n",
        "                    return url;\n",
        "                },\n",
        "                tileSize: new win.google.maps.Size(256, 256),\n",
        "                opacity: visible ? 1.0 : 0.0,\n",
        "            };\n",
        "            \n",
        "            // Create the overlay map type\n",
        "            var mapType = new win.google.maps.ImageMapType(eeMapOptions);\n",
        "                \n",
        "            // Overlay the Earth Engine generated layer\n",
        "            this.map.overlayMapTypes.push(mapType);\n",
        "\n",
        "            // Update layer visibility control\n",
        "            var maxSlider = 100;\n",
        "            \n",
        "            function updateOpacity() {\n",
        "                mapType.setOpacity($checkbox[0].checked ? $slider[0].value / 100.0 : 0);\n",
        "            }\n",
        "            \n",
        "            var $checkbox = $('<input type=\"checkbox\">')\n",
        "                .prop('checked', visible)\n",
        "                .change(updateOpacity);\n",
        "            \n",
        "            var $slider = $('<input type=\"range\" />')\n",
        "                .prop('min', 0)\n",
        "                .prop('max', maxSlider)\n",
        "                .prop('value', maxSlider)\n",
        "                .css('width', '60px')\n",
        "                .on('input', updateOpacity);\n",
        "\n",
        "            // If user doesn't specify a layer name, create a default\n",
        "            if (name === null) {\n",
        "                name = 'Layer ' + this.map.overlayMapTypes.length;\n",
        "            }\n",
        "            \n",
        "            var $row = $('<tr />');\n",
        "            $('<td align=\"left\" />').append($checkbox).append(name).appendTo($row);\n",
        "            $('<td />').append($slider).appendTo($row);\n",
        "\n",
        "            this.layersControl.$controlTable.append($row);\n",
        "        }\n",
        "    });\n",
        "    \n",
        "    // Register the GoogleMapsView with the widget manager.\n",
        "    WidgetManager.register_widget_view('GoogleMapsView', GoogleMapsView);\n",
        "});\n"
       ],
       "metadata": {},
       "output_type": "display_data",
       "text": [
        "<IPython.core.display.Javascript at 0x10b263190>"
       ]
      }
     ],
     "prompt_number": 5
    },
    {
     "cell_type": "markdown",
     "metadata": {},
     "source": [
      "## Call in our field-collected data"
     ]
    },
    {
     "cell_type": "markdown",
     "metadata": {},
     "source": [
      "Now, we want to access and visualize some of our own data. "
     ]
    },
    {
     "cell_type": "code",
     "collapsed": false,
     "input": [
      "Irene= ee.Image(\"users/kuhniculous/floodwithnoletters\")\n",
      "flood_img = (Irene.select('b1').eq(160))\n",
      "flood_img2 = flood_img.mask(flood_img)"
     ],
     "language": "python",
     "metadata": {},
     "outputs": [],
     "prompt_number": 6
    },
    {
     "cell_type": "markdown",
     "metadata": {},
     "source": [
      "Use the print command to check out the image metadata. This serves two purposes. It allows us to make sure our image is actually the correct one and it also shows us which bands we need to use for visualization"
     ]
    },
    {
     "cell_type": "code",
     "collapsed": false,
     "input": [
      "print(flood_img2.getInfo())"
     ],
     "language": "python",
     "metadata": {},
     "outputs": [
      {
       "output_type": "stream",
       "stream": "stdout",
       "text": [
        "{u'bands': [{u'crs': u'EPSG:32617', u'crs_transform': [75.31768869281345, 0.0, 1021666.7454808846, 0.0, -75.34505775167726, 4717317.413996303], u'id': u'b1', u'data_type': {u'max': 1, u'type': u'PixelType', u'precision': u'int', u'min': 0}, u'dimensions': [1152, 2025]}], u'type': u'Image'}\n"
       ]
      }
     ],
     "prompt_number": 7
    },
    {
     "cell_type": "markdown",
     "metadata": {},
     "source": [
      "Now we are going to incorporate that data into a zoomable, inline map using our map widget and some user-defined visualization parameters. "
     ]
    },
    {
     "cell_type": "code",
     "collapsed": false,
     "input": [
      "map = GoogleMapsWidget(lat=41.14, lng=-73.83, zoom=10) # lat, lng and zoom are optional\n",
      "display(map)\n",
      "\n",
      "vis_params1 = {'palette': 'f64104', 'bands':'b1','min':0,'max':1}\n",
      "\n",
      "map.addLayer(image=flood_img2, vis_params=vis_params1, name='NY DFO Flood Image')"
     ],
     "language": "python",
     "metadata": {},
     "outputs": [],
     "prompt_number": 8
    },
    {
     "cell_type": "markdown",
     "metadata": {},
     "source": [
      "## Import and Visualize an imagery layer for pH from Earth Engine"
     ]
    },
    {
     "cell_type": "code",
     "collapsed": false,
     "input": [
      "co2= ee.Image(\"users/kuhniculous/MissCO2\")\n",
      "# print(co2.getInfo())"
     ],
     "language": "python",
     "metadata": {},
     "outputs": [],
     "prompt_number": 76
    },
    {
     "cell_type": "code",
     "collapsed": false,
     "input": [
      "map = GoogleMapsWidget(lat=43.7219, lng=-91.2482, zoom=10) # lat, lng and zoom are optional\n",
      "display(map)\n",
      "\n",
      "pal = {'min': 1, 'max': 15, 'palette': ','.join([\"0000FF\",\"00E5EE\",\"FF0000\"])}\n",
      "\n",
      "#pal = {'min': 0, 'max': 40, 'palette': ','.join([\"6697B0\",\"90B5C4\",\"E1CE3D\",\"D3B226\",\"CC3BIB\"])}\n",
      "map.addLayer(image=co2, name='CO2', vis_params=pal) "
     ],
     "language": "python",
     "metadata": {},
     "outputs": [],
     "prompt_number": 77
    },
    {
     "cell_type": "code",
     "collapsed": false,
     "input": [
      "# Attempt to buffer the points\n",
      "\n",
      "# Draw a second layer with physically-sized (a 2km radius).\n",
      "buffered = pooleight.map(function f(e) {\n",
      "  return e.buffer(200)\n",
      "});\n",
      "secondImage = ee.Image().paint(buffered);\n",
      "#Map.addLayer(secondImage, {}, \"2km points\")\n",
      "\n",
      "secondImage2 = ee.Image().byte().paint(buffered, \"CO2uM_tau\");\n",
      "#Map.addLayer(secondImage2, {min: 0, max: 40, palette: ['0000FF', '00FF00', '00FFFF', 'FF0000']}, \"test\")\n"
     ],
     "language": "python",
     "metadata": {},
     "outputs": []
    },
    {
     "cell_type": "code",
     "collapsed": false,
     "input": [
      "map = GoogleMapsWidget(lat=43.7219, lng=-91.2482, zoom=10) # lat, lng and zoom are optional\n",
      "display(map)\n",
      "\n",
      "vis_params1 = {'palette': '000000', 'bands':'b1','min':0,'max':1}\n",
      "\n",
      "# vis_params1 = {min: 0, max: 40, palette: ['0000FF', '00FF00', '00FFFF', 'FF0000']}\n",
      "map.addLayer(image=secondImage2, vis_params=vis_params1, name='CO2')\n",
      "\n",
      "\n"
     ],
     "language": "python",
     "metadata": {},
     "outputs": []
    },
    {
     "cell_type": "markdown",
     "metadata": {},
     "source": [
      "## Appendix "
     ]
    },
    {
     "cell_type": "code",
     "collapsed": false,
     "input": [
      "# Print out the image metadata for a single image.\n",
      "print('Image Metadata') \n",
      "metadata = Irene.getInfo()\n",
      "for key, value in metadata['properties'].items():\n",
      "    print('{0} = {1}'.format(key, value))"
     ],
     "language": "python",
     "metadata": {},
     "outputs": [
      {
       "output_type": "stream",
       "stream": "stdout",
       "text": [
        "Image Metadata\n",
        "system:footprint = {u'type': u'LinearRing', u'coordinates': [[-46.879953464302005, 0.47884123309226617], [-46.88080035800471, 0.47900250187198457], [-52.02026367187507, 0.4790026641613059], [-57.15929634524046, 0.47900266344413517], [-57.1616684211788, 0.4769091956136625], [-57.164284244187044, 0.4751296162940827], [-57.16444520376879, 0.4742826905740196], [-57.1644559438532, -3.7268363928095845], [-57.162360327267955, -3.7292075927798494], [-57.16058198538656, -3.731824178332329], [-57.15973097214061, -3.7319863725040134], [-54.58977905273461, -3.731987008502646], [-52.02026367187482, -3.731987008502646], [-49.450748291015564, -3.7319870085026468], [-46.88122538593293, -3.7319869975423368], [-46.878852219885616, -3.729892346760344], [-46.87623268982925, -3.7281139431550607], [-46.87607139879908, -3.7272645007405067], [-46.87608213888163, 0.4738520667585445], [-46.87817479634086, 0.4762248385668391], [-46.879953464302005, 0.47884123309226617]]}"
       ]
      },
      {
       "output_type": "stream",
       "stream": "stdout",
       "text": [
        "\n"
       ]
      }
     ],
     "prompt_number": 27
    },
    {
     "cell_type": "markdown",
     "metadata": {},
     "source": [
      "This just displays a black trace of the data. "
     ]
    },
    {
     "cell_type": "code",
     "collapsed": false,
     "input": [
      "map = GoogleMapsWidget(lat=43.7219, lng=-91.2482, zoom=10) # lat, lng and zoom are optional\n",
      "display(map)\n",
      "\n",
      "vis_params1 = {'palette': '000000', 'bands':'b1','min':0,'max':40}\n",
      "map.addLayer(image=co2, vis_params=vis_params1, name='CO2')"
     ],
     "language": "python",
     "metadata": {},
     "outputs": [],
     "prompt_number": 75
    }
   ],
   "metadata": {}
  }
 ]
}