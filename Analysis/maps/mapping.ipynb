{
 "metadata": {
  "name": "",
  "signature": "sha256:7c18d9a362ddbb11d3d90e5b6525353d116c444b96f5783af6fbc96b3446360a"
 },
 "nbformat": 3,
 "nbformat_minor": 0,
 "worksheets": [
  {
   "cells": [
    {
     "cell_type": "markdown",
     "metadata": {},
     "source": [
      "# UW Big Rivers Mapping Tool"
     ]
    },
    {
     "cell_type": "markdown",
     "metadata": {},
     "source": [
      "*The purpose of this code is to demonstrate the potential of Earth Engine for \n",
      "building maps driven by python code structures and visualized inline in an iPython notebook.* "
     ]
    },
    {
     "cell_type": "markdown",
     "metadata": {},
     "source": [
      "<img src=\"logo.png\">"
     ]
    },
    {
     "cell_type": "markdown",
     "metadata": {},
     "source": [
      "## Setting up your work environment"
     ]
    },
    {
     "cell_type": "markdown",
     "metadata": {},
     "source": [
      "Initialize the Earth Engine object using the authentication credentials. These two lines of code below require a special environment and authentication procedure to work. To read more about how to set up the authentication process, please visit: https://github.com/catherinekuhn/ee-python/ee-python/ and select the \"Python API Instructions\" notebook for detailed instructions. Once you have followed the set-up directions, you should be ready to access the Google Earth Engine Python API. \n",
      "\n",
      "Before we actually initialize, always make sure you are in the correct environment. You can do this by typing the following command into the terminal. \n",
      "    \n",
      "    conda info --envs\n",
      "    \n",
      "If you aren't in the ee-python environments switch to it by using the following (exclude source if using Windows) \n",
      "\n",
      "    source activate ee-python"
     ]
    },
    {
     "cell_type": "markdown",
     "metadata": {},
     "source": [
      "If you have followed the installation instructions and are in the correct environment, you are now ready to use the following code."
     ]
    },
    {
     "cell_type": "code",
     "collapsed": false,
     "input": [
      "# Call into the web API and authenticate your user credentials\n",
      "% run 'ee_utils.ipynb'\n",
      "initialize_api()"
     ],
     "language": "python",
     "metadata": {},
     "outputs": [
      {
       "output_type": "stream",
       "stream": "stdout",
       "text": [
        "Authentication successful!\n"
       ]
      }
     ],
     "prompt_number": 1
    },
    {
     "cell_type": "markdown",
     "metadata": {},
     "source": [
      "## Display a test image\n",
      "\n",
      "This will help you quickly double check you are in the right place. In this step, we are calling in a global SRTM elevation dataset from Earth Engine and visualizing it on the fly in our notebook. "
     ]
    },
    {
     "cell_type": "code",
     "collapsed": false,
     "input": [
      "test_api()"
     ],
     "language": "python",
     "metadata": {},
     "outputs": [
      {
       "output_type": "stream",
       "stream": "stdout",
       "text": [
        "Get psyched! You have entered the Python Earth Engine Playground\n"
       ]
      },
      {
       "html": [
        "<img src=\"https://earthengine.googleapis.com//api/thumb?thumbid=d3309596490160c51ecf1e0ef470ccf3&token=38cd1824a75f1ae6076b8c612e311116\"/>"
       ],
       "metadata": {},
       "output_type": "pyout",
       "prompt_number": 2,
       "text": [
        "<IPython.core.display.Image at 0x10b18bf50>"
       ]
      }
     ],
     "prompt_number": 2
    },
    {
     "cell_type": "markdown",
     "metadata": {},
     "source": [
      "## Install the Map Widget"
     ]
    },
    {
     "cell_type": "markdown",
     "metadata": {},
     "source": [
      "Run Google Developer Tyler Erickson's ever-useful interactive widget to enable map interactive zoomable map visualization of our data."
     ]
    },
    {
     "cell_type": "code",
     "collapsed": false,
     "input": [
      "%run 'define_google_maps_interactive_widget.ipynb'"
     ],
     "language": "python",
     "metadata": {},
     "outputs": [
      {
       "javascript": [
        "\n",
        "require([\"widgets/js/widget\"], function(WidgetManager){\n",
        "    var maps = [];\n",
        "    \n",
        "    // Define the GoogleMapsView\n",
        "    var GoogleMapsView = IPython.DOMWidgetView.extend({\n",
        "        \n",
        "        render: function() {\n",
        "            // Resize widget element to be 100% wide\n",
        "            this.$el.css('width', '100%');\n",
        "\n",
        "            // iframe source;  just enough to load Google Maps and let us poll whether initialization is complete\n",
        "            var src='<html style=\"height:100%\"><head>' +\n",
        "                '<scr'+'ipt src=\"http://maps.googleapis.com/maps/api/js?sensor=false\"></scr'+'ipt>' +\n",
        "                '<scr'+'ipt>google.maps.event.addDomListener(window,\"load\",function(){ready=true});</scr'+'ipt>' +\n",
        "                '</head>' +\n",
        "                '<body style=\"height:100%; margin:0px; padding:0px\"></body></html>';\n",
        "            \n",
        "            // Create the Google Maps container element.\n",
        "            this.$iframe = $('<iframe />')\n",
        "                .css('width', '100%')\n",
        "                .css('height', '1000px')\n",
        "                .attr('srcdoc', src)\n",
        "                .appendTo(this.$el);\n",
        "                        \n",
        "            var self = this; // hold onto this for initMapWhenReady\n",
        "\n",
        "            // Wait until maps library has finished loading in iframe, then create map\n",
        "            function initMapWhenReady() {\n",
        "                // Iframe document and window\n",
        "                var doc = self.$iframe[0].contentDocument;\n",
        "                var win = self.$iframe[0].contentWindow;\n",
        "                if (!win || !win.ready) {\n",
        "                    // Maps library not yet loaded;  try again soon\n",
        "                    setTimeout(initMapWhenReady, 20);\n",
        "                    return;\n",
        "                }\n",
        "\n",
        "                // Maps library finished loading.  Build map now.\n",
        "                var mapOptions = {\n",
        "                    center: new win.google.maps.LatLng(self.model.get('lat'), self.model.get('lng')),\n",
        "                    zoom: self.model.get('zoom')\n",
        "                };\n",
        "                var mapDiv = $('<div />')\n",
        "                    .css('width', '100%')\n",
        "                    .css('height', '100%')\n",
        "                    .appendTo($(doc.body));\n",
        "                self.map = new win.google.maps.Map(mapDiv[0], mapOptions);\n",
        "                \n",
        "                \n",
        "                // Add an event listeners for user panning, zooming, and resizing map\n",
        "                // TODO(rsargent): Bind self across all methods, and save some plumbing here\n",
        "                win.google.maps.event.addListener(self.map, 'bounds_changed', function () {\n",
        "                    self.handleBoundsChanged();\n",
        "                });\n",
        "                \n",
        "                self.initializeLayersControl();\n",
        "            }\n",
        "            initMapWhenReady();\n",
        "        },\n",
        "        \n",
        "        LayersControl: function(widget, controlDiv, map) {\n",
        "            var win = widget.$iframe[0].contentWindow;\n",
        "            var chicago = new win.google.maps.LatLng(41.850033, -87.6500523);\n",
        "\n",
        "            // Set CSS styles for the DIV containing the control\n",
        "            // Setting padding to 5 px will offset the control\n",
        "            // from the edge of the map.\n",
        "            controlDiv.style.padding = '5px';\n",
        "\n",
        "            // Set CSS for the control border.\n",
        "            var $controlUI = $('<div />')\n",
        "                .css('backgroundColor', 'white')\n",
        "                .css('borderStyle', 'solid')\n",
        "                .css('borderWidth', '1px')\n",
        "                .css('cursor', 'pointer')\n",
        "                .css('textAlign', 'center')\n",
        "                .appendTo($(controlDiv));\n",
        "            \n",
        "            // Set CSS for the control interior.\n",
        "            var $controlContents = $('<div />')\n",
        "                .css('fontFamily', 'Arial,sans-serif')\n",
        "                .css('fontSize', '12px')\n",
        "                .css('paddingLeft', '4px')\n",
        "                .css('paddingRight', '4px')\n",
        "                .css('paddingTop', '0px')\n",
        "                .css('paddingBottom', '0px')\n",
        "                .appendTo($controlUI);\n",
        "            \n",
        "            this.$controlTable = $('<table />')\n",
        "                .append($('<tr><td colspan=2>Layers</td></tr>'))\n",
        "                .appendTo($controlContents);\n",
        "        },\n",
        "\n",
        "        initializeLayersControl: function() {\n",
        "            var doc = this.$iframe[0].contentDocument;\n",
        "            var win = this.$iframe[0].contentWindow;\n",
        "\n",
        "            // Create the DIV to hold the control and call the LayersControl() constructor\n",
        "            // passing in this DIV.\n",
        "    \n",
        "            var layersControlDiv = document.createElement('div');\n",
        "            this.layersControl = new this.LayersControl(this, layersControlDiv, this.map);\n",
        "\n",
        "            layersControlDiv.index = 1;\n",
        "            this.map.controls[win.google.maps.ControlPosition.TOP_RIGHT].push(layersControlDiv);\n",
        "        },\n",
        "        \n",
        "        // Map geometry changed (pan, zoom, resize)\n",
        "        handleBoundsChanged: function() {\n",
        "            this.model.set('lng', this.map.getCenter().lng());\n",
        "            this.model.set('lat', this.map.getCenter().lat());\n",
        "            this.model.set('zoom', this.map.getZoom());\n",
        "            var bounds = this.map.getBounds();\n",
        "            var playgroundCompatible = [bounds.getSouthWest().lng(), bounds.getSouthWest().lat(),\n",
        "                                        bounds.getNorthEast().lng(), bounds.getNorthEast().lat()];\n",
        "            this.model.set('bounds', playgroundCompatible);\n",
        "            this.touch();\n",
        "        },\n",
        "        \n",
        "        // Receive custom messages from Python backend\n",
        "        on_msg: function(msg) {\n",
        "            var win = this.$iframe[0].contentWindow;\n",
        "            if (msg.command == 'addLayer') {\n",
        "                this.addLayer(msg.mapid, msg.token, msg.name, msg.visible);\n",
        "            } else if (msg.command == 'center') {\n",
        "                this.map.setCenter(new win.google.maps.LatLng(msg.lat, msg.lng));\n",
        "                if (msg.zoom !== null) {\n",
        "                    this.map.setZoom(msg.zoom);\n",
        "                }\n",
        "            }\n",
        "        },\n",
        "        \n",
        "        // Add an Earth Engine layer\n",
        "        addLayer: function(mapid, token, name, visible) {\n",
        "            var win = this.$iframe[0].contentWindow;\n",
        "            var eeMapOptions = {\n",
        "                getTileUrl: function(tile, zoom) {\n",
        "                    var url = ['https://earthengine.googleapis.com/map',\n",
        "                               mapid, zoom, tile.x, tile.y].join(\"/\");\n",
        "                    url += '?token=' + token\n",
        "                    return url;\n",
        "                },\n",
        "                tileSize: new win.google.maps.Size(256, 256),\n",
        "                opacity: visible ? 1.0 : 0.0,\n",
        "            };\n",
        "            \n",
        "            // Create the overlay map type\n",
        "            var mapType = new win.google.maps.ImageMapType(eeMapOptions);\n",
        "                \n",
        "            // Overlay the Earth Engine generated layer\n",
        "            this.map.overlayMapTypes.push(mapType);\n",
        "\n",
        "            // Update layer visibility control\n",
        "            var maxSlider = 100;\n",
        "            \n",
        "            function updateOpacity() {\n",
        "                mapType.setOpacity($checkbox[0].checked ? $slider[0].value / 100.0 : 0);\n",
        "            }\n",
        "            \n",
        "            var $checkbox = $('<input type=\"checkbox\">')\n",
        "                .prop('checked', visible)\n",
        "                .change(updateOpacity);\n",
        "            \n",
        "            var $slider = $('<input type=\"range\" />')\n",
        "                .prop('min', 0)\n",
        "                .prop('max', maxSlider)\n",
        "                .prop('value', maxSlider)\n",
        "                .css('width', '60px')\n",
        "                .on('input', updateOpacity);\n",
        "\n",
        "            // If user doesn't specify a layer name, create a default\n",
        "            if (name === null) {\n",
        "                name = 'Layer ' + this.map.overlayMapTypes.length;\n",
        "            }\n",
        "            \n",
        "            var $row = $('<tr />');\n",
        "            $('<td align=\"left\" />').append($checkbox).append(name).appendTo($row);\n",
        "            $('<td />').append($slider).appendTo($row);\n",
        "\n",
        "            this.layersControl.$controlTable.append($row);\n",
        "        }\n",
        "    });\n",
        "    \n",
        "    // Register the GoogleMapsView with the widget manager.\n",
        "    WidgetManager.register_widget_view('GoogleMapsView', GoogleMapsView);\n",
        "});\n"
       ],
       "metadata": {},
       "output_type": "display_data",
       "text": [
        "<IPython.core.display.Javascript at 0x10b067590>"
       ]
      }
     ],
     "prompt_number": 3
    },
    {
     "cell_type": "markdown",
     "metadata": {},
     "source": [
      "## Mississippi River Demo"
     ]
    },
    {
     "cell_type": "markdown",
     "metadata": {},
     "source": [
      "#### Field-Collected Instantaneous Sensor Data"
     ]
    },
    {
     "cell_type": "markdown",
     "metadata": {},
     "source": [
      "Now, we will call in three different images from our Earth Engine assets. These assets are images with a single band that stores the value of a single chemical parameter for each pixel. While we will use CO2, CH4 and FDOM for our demo, users could generate these images for any field-collected chemical variable."
     ]
    },
    {
     "cell_type": "code",
     "collapsed": false,
     "input": [
      "missco2= ee.Image('users/kuhniculous/missco2')\n",
      "missch4 = ee.Image('users/kuhniculous/missch4')\n",
      "missfdom = ee.Image('users/kuhniculous/missfdom')          "
     ],
     "language": "python",
     "metadata": {},
     "outputs": [],
     "prompt_number": 4
    },
    {
     "cell_type": "markdown",
     "metadata": {},
     "source": [
      "#### Remote Sensing Imagery "
     ]
    },
    {
     "cell_type": "markdown",
     "metadata": {},
     "source": [
      "This function from ee_utils will isolate pixels classified as open water by the National Land Cover Dataset"
     ]
    },
    {
     "cell_type": "code",
     "collapsed": false,
     "input": [
      "NLCD2011 = ee.Image(\"NLCD2011\");\n",
      "water_features_ = NLCD2011.select('landcover').eq(11);\n",
      "water_features = water_features_.mask(water_features_)"
     ],
     "language": "python",
     "metadata": {},
     "outputs": [],
     "prompt_number": 5
    },
    {
     "cell_type": "markdown",
     "metadata": {},
     "source": [
      "Get the percent imperviousness for each pixel from the 2011 National Land Cover Dataset. "
     ]
    },
    {
     "cell_type": "code",
     "collapsed": false,
     "input": [
      "impervious = NLCD2011.select('impervious')"
     ],
     "language": "python",
     "metadata": {},
     "outputs": [],
     "prompt_number": 6
    },
    {
     "cell_type": "markdown",
     "metadata": {},
     "source": [
      "Call elevation (10 m) from the USGS National Elevation Dataset. "
     ]
    },
    {
     "cell_type": "code",
     "collapsed": false,
     "input": [
      "elevation = ee.Image(\"USGS/NED\");"
     ],
     "language": "python",
     "metadata": {},
     "outputs": [],
     "prompt_number": 7
    },
    {
     "cell_type": "markdown",
     "metadata": {},
     "source": [
      "#### Interactive Mapping"
     ]
    },
    {
     "cell_type": "markdown",
     "metadata": {},
     "source": [
      "Define palettes to display imagery"
     ]
    },
    {
     "cell_type": "code",
     "collapsed": false,
     "input": [
      "print('UPPER MISSISSIPPI RIVER BASIN')\n",
      "\n",
      "# Call the map widget and center the map\n",
      "map = GoogleMapsWidget(lat=43.7219, lng=-91.2482, zoom=10) \n",
      "display(map)\n",
      "\n",
      "# Define visualization parameters for chemical variables\n",
      "co2pal = {'min': 0, 'max': 40, 'palette': ','.join(['0000FF','00FF00','00FFFF','FF0000'])}\n",
      "ch4pal = {'min': 0, 'max': 0.6, 'palette': ','.join(['0000FF','00FF00','00FFFF','FF0000'])}\n",
      "fdompal = {'min': 0, 'max': 90, 'palette': ','.join(['0000FF', '00FF00', '00FFFF', 'FF0000'])}\n",
      "\n",
      "# Display chemical variables\n",
      "map.addLayer(image=missco2, vis_params=co2pal, name='CO2')\n",
      "map.addLayer(image=missch4, vis_params=ch4pal, name = 'CH4')\n",
      "map.addLayer(image=missfdom, vis_params=fdompal, name = 'FDOM')\n",
      "\n",
      "\n",
      "# Define palettes for landscape characteristics\n",
      "h20pal = {'min': 0, 'max': 1, 'palette': ','.join([\"000000\",\"0000FF\"])}\n",
      "imppal = {'min': 0, 'max': 100, 'palette': ','.\n",
      "          join([\"66ffff\",\"00ff00\", \"ffff00\", \"ff3300\", \"ff0000\"])}  \n",
      "elpal = {'min': 0, 'max': 600, 'palette': ','.join(['000000','ffffff'])} \n",
      "\n",
      "# Display landscape characteristics\n",
      "map.addLayer(image = water_features, vis_params=h20pal, name = 'Permanent Water' )\n",
      "map.addLayer(image = impervious, vis_params=imppal, name ='Impervious Surface (%)')\n",
      "map.addLayer(image = elevation, vis_params = elpal, name = 'Elevation (m)')    "
     ],
     "language": "python",
     "metadata": {},
     "outputs": [
      {
       "output_type": "stream",
       "stream": "stdout",
       "text": [
        "UPPER MISSISSIPPI RIVER BASIN\n"
       ]
      }
     ],
     "prompt_number": 8
    },
    {
     "cell_type": "markdown",
     "metadata": {},
     "source": [
      "## Amazon River Demo "
     ]
    },
    {
     "cell_type": "markdown",
     "metadata": {},
     "source": [
      "#### Field-Collected Instantaneous Sensor Data"
     ]
    },
    {
     "cell_type": "markdown",
     "metadata": {},
     "source": [
      "This data was collected by the UW River Systems Research Group. "
     ]
    },
    {
     "cell_type": "code",
     "collapsed": false,
     "input": [
      "amzco2 = ee.Image(\"users/kuhniculous/amzco2\")\n",
      "amzch4 = ee.Image(\"users/kuhniculous/amzch4\")\n",
      "amzfdom = ee.Image(\"users/kuhniculous/amzfdom\")"
     ],
     "language": "python",
     "metadata": {},
     "outputs": [],
     "prompt_number": 9
    },
    {
     "cell_type": "markdown",
     "metadata": {},
     "source": [
      "#### Remote Sensing Imagery"
     ]
    },
    {
     "cell_type": "code",
     "collapsed": false,
     "input": [
      "# Elevation\n",
      "elevation = ee.Image('srtm90_v4')\n",
      "\n",
      "# Water Features\n",
      "GlobCover = ee.Image(\"ESA/GLOBCOVER_L4_200901_200912_V2_3\");\n",
      "waterf = GlobCover.select('landcover').eq(210)\n",
      "waterfeatures = waterf.mask(waterf)"
     ],
     "language": "python",
     "metadata": {},
     "outputs": [],
     "prompt_number": 10
    },
    {
     "cell_type": "markdown",
     "metadata": {},
     "source": [
      "#### Interactive Map"
     ]
    },
    {
     "cell_type": "code",
     "collapsed": false,
     "input": [
      "print('AMAZON RIVER BASIN')\n",
      "\n",
      "map = GoogleMapsWidget(lat=-2.068641999489608, lng=-53.470458984375, zoom=8) \n",
      "display(map)\n",
      "\n",
      "co2pal = {'min': 0, 'max': 100, 'palette': ','.join(['0000FF','00FF00','00FFFF','FF0000'])}\n",
      "ch4pal = {'min': 0, 'max': 0.2, 'palette': ','.join(['0000FF','00FF00','00FFFF','FF0000'])}\n",
      "fdompal = {'min': 0, 'max': 50, 'palette': ','.join(['0000FF', '00FF00', '00FFFF', 'FF0000'])}\n",
      "\n",
      "map.addLayer(image=amzco2, vis_params=co2pal, name='CO2')\n",
      "map.addLayer(image=amzch4, vis_params=ch4pal, name = 'CH4')\n",
      "map.addLayer(image=amzfdom, vis_params=fdompal, name = 'FDOM')    \n",
      "\n",
      "\n",
      "# Define palettes for landscape characteristics\n",
      "h20pal = {'min': 0, 'max': 1, 'palette': ','.join([\"000000\",\"0000FF\"])}\n",
      "elpal = {'min': 0, 'max': 1000, 'palette': ','.join(['000000','ffffff'])} \n",
      "\n",
      "\n",
      "# Display landscape characteristics\n",
      "map.addLayer(image = waterfeatures, vis_params=h20pal, name = 'Permanent Water' )\n",
      "map.addLayer(image = elevation, vis_params = elpal, name = 'Elevation (m)')  "
     ],
     "language": "python",
     "metadata": {},
     "outputs": [
      {
       "output_type": "stream",
       "stream": "stdout",
       "text": [
        "AMAZON RIVER BASIN\n"
       ]
      }
     ],
     "prompt_number": 11
    },
    {
     "cell_type": "markdown",
     "metadata": {},
     "source": [
      "## Exporting Image Metadata"
     ]
    },
    {
     "cell_type": "markdown",
     "metadata": {},
     "source": [
      "Export image metadata as a text file for use later. "
     ]
    },
    {
     "cell_type": "code",
     "collapsed": false,
     "input": [
      "co2_metadata = missco2.getInfo()"
     ],
     "language": "python",
     "metadata": {},
     "outputs": [],
     "prompt_number": 35
    },
    {
     "cell_type": "code",
     "collapsed": false,
     "input": [
      "%store co2_metadata >> missco2_metadata.txt "
     ],
     "language": "python",
     "metadata": {},
     "outputs": [
      {
       "output_type": "stream",
       "stream": "stdout",
       "text": [
        "Writing 'co2_metadata' (dict) to file 'missco2_metadata.txt'.\n"
       ]
      }
     ],
     "prompt_number": 36
    },
    {
     "cell_type": "markdown",
     "metadata": {},
     "source": [
      "## Debugging"
     ]
    },
    {
     "cell_type": "markdown",
     "metadata": {},
     "source": [
      "Run a unit test to make sure the file saved."
     ]
    },
    {
     "cell_type": "code",
     "collapsed": false,
     "input": [
      "% run unit_tests.ipynb"
     ],
     "language": "python",
     "metadata": {},
     "outputs": []
    }
   ],
   "metadata": {}
  }
 ]
}