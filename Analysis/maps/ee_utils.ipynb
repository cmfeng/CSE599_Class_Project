{
 "metadata": {
  "name": "",
  "signature": "sha256:8c0dfc9a8b43fdd3f554e171052c9b17cd6107e190a5ae13da6a0fa59232e9eb"
 },
 "nbformat": 3,
 "nbformat_minor": 0,
 "worksheets": [
  {
   "cells": [
    {
     "cell_type": "code",
     "collapsed": false,
     "input": [
      "\"\"\"ee_utils\"\"\"\n",
      "\n",
      "import ee\n",
      "\n",
      "from IPython.display import Image\n",
      "\n",
      "%matplotlib inline\n",
      "\n",
      "from __future__ import print_function # For py 2.7 compat\n",
      "import datetime\n",
      "import IPython\n",
      "from IPython.html import widgets\n",
      "from IPython.display import display\n",
      "from IPython.utils import traitlets\n",
      "from IPython.core.display import Javascript\n",
      "\n",
      "\n",
      "# For now, call ee_initialize() instead of ee.Initialize()\n",
      "def initialize_api():\n",
      "    try:\n",
      "        ee.Initialize()\n",
      "        print(\"Authentication successful!\")\n",
      "    except:\n",
      "        print('Authentication failed')\n",
      "\n",
      "\n",
      "def test_api():\n",
      "    \"\"\"\n",
      "    This script will test to make sure you are \n",
      "    in the Earth Engine API by printing a small \n",
      "    map inline in your IPython notebook.\n",
      "    \"\"\"\n",
      "\n",
      "    # Call an global elevation image from Earth Engine\n",
      "    image = ee.Image('srtm90_v4')\n",
      "    print(\"Get psyched! You have entered the Python Earth Engine Playground\")\n",
      "    return Image(url=image.getThumbUrl({'min':0, 'max': 3000}))"
     ],
     "language": "python",
     "metadata": {},
     "outputs": [],
     "prompt_number": 5
    }
   ],
   "metadata": {}
  }
 ]
}