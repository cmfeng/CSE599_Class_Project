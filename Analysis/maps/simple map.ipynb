{
 "cells": [
  {
   "cell_type": "markdown",
   "metadata": {},
   "source": [
    "# Generating a basic map image in Earth Engine"
   ]
  },
  {
   "cell_type": "markdown",
   "metadata": {},
   "source": [
    "## Install ee-python\n",
    "\n",
    "Follow the installation directions found here:\n",
    "\n",
    "https://github.com/catherinekuhn/CloudtoStreet/blob/master/Python%20API%20directions.ipynb\n",
    "\n",
    "## Check your environment\n",
    "Make sure that you are in the correct environment. To check your current environment, type the following. The environment you are in will have a star next to it. \n",
    "\n",
    "        conda info --envs\n",
    "\n",
    "If you are not in the ee-python environment, you can switch into it using \n",
    "\n",
    "        source activate ee-python\n"
   ]
  },
  {
   "cell_type": "markdown",
   "metadata": {},
   "source": [
    "## Import & Authentication "
   ]
  },
  {
   "cell_type": "code",
   "execution_count": 3,
   "metadata": {
    "collapsed": true
   },
   "outputs": [],
   "source": [
    "# Import the Earth Engine Python Package into Python environment.\n",
    "import ee\n",
    "import ee.mapclient\n",
    "\n",
    "# Initialize the Earth Engine object, using the authentication credentials.\n",
    "ee.Initialize()"
   ]
  },
  {
   "cell_type": "markdown",
   "metadata": {},
   "source": [
    "## Visualize Geographic Data"
   ]
  },
  {
   "cell_type": "code",
   "execution_count": 4,
   "metadata": {
    "collapsed": false
   },
   "outputs": [
    {
     "data": {
      "text/html": [
       "<img src=\"https://earthengine.googleapis.com//api/thumb?thumbid=d3309596490160c51ecf1e0ef470ccf3&token=32baa502fa10e9739987c7106b0ec9e1\"/>"
      ],
      "text/plain": [
       "<IPython.core.display.Image object>"
      ]
     },
     "execution_count": 4,
     "metadata": {},
     "output_type": "execute_result"
    }
   ],
   "source": [
    "image = ee.Image('srtm90_v4')\n",
    "from IPython.display import Image\n",
    "Image(url=image.getThumbUrl({'min':0, 'max': 3000}))"
   ]
  },
  {
   "cell_type": "code",
   "execution_count": 5,
   "metadata": {
    "collapsed": false
   },
   "outputs": [
    {
     "name": "stdout",
     "output_type": "stream",
     "text": [
      "{u'bands': [{u'crs': u'EPSG:4326', u'crs_transform': [0.0008333333535119891, 0.0, -180.0, 0.0, -0.0008333333535119891, 60.0], u'id': u'elevation', u'data_type': {u'max': 32767, u'type': u'PixelType', u'precision': u'int', u'min': -32768}, u'dimensions': [432000, 144000]}], u'version': 1427492341199000, u'type': u'Image', u'id': u'srtm90_v4', u'properties': {u'system:time_end': 951177600000, u'system:time_start': 950227200000}}\n"
     ]
    }
   ],
   "source": [
    "# Print the information for an image asset. the 'srtm90_v4 file is a digital elevation model. \n",
    "# that is housed in Google's cloud and has an elevation value for every pixel across the whole earth \n",
    "# at a resolution of 30 meters. That is the map you see below in the static notebook. \n",
    "\n",
    "print(image.getInfo())\n",
    "\n",
    "#celebrate the metadata!!"
   ]
  },
  {
   "cell_type": "code",
   "execution_count": 6,
   "metadata": {
    "collapsed": false
   },
   "outputs": [
    {
     "data": {
      "text/html": [
       "<img src=\"https://earthengine.googleapis.com//api/thumb?thumbid=68535c8f8671b7215ffb6f2269ad7af7&token=23fea8c30546e9fdfbcdf73eb1bf3566\"/>"
      ],
      "text/plain": [
       "<IPython.core.display.Image object>"
      ]
     },
     "metadata": {},
     "output_type": "display_data"
    },
    {
     "data": {
      "text/html": [
       "<img src=\"https://earthengine.googleapis.com//api/thumb?thumbid=ea99312aebda78d5db56a431117cb394&token=516f7b4957aa90770f0d82b9f0c3947d\"/>"
      ],
      "text/plain": [
       "<IPython.core.display.Image object>"
      ]
     },
     "metadata": {},
     "output_type": "display_data"
    }
   ],
   "source": [
    "Irene= ee.Image(\"users/kuhniculous/floodwithnoletters\")\n",
    "\n",
    "from IPython.display import display,Image\n",
    "test=ee.Image(Irene)\n",
    "\n",
    "display(Image(url=test.select(['b1']).getThumbUrl({'gamma':2})))\n",
    "\n",
    "Lparams = {\n",
    "    'min':0.0134,\n",
    "    'max':0.0338,\n",
    "    'palette':'000000,0000ff,00ffff,00ff00,ffff00,ffa500,ff0000',\n",
    "    };\n",
    "display(Image(url=test.select([\"b1\"]).getThumbUrl(Lparams)))\n"
   ]
  },
  {
   "cell_type": "code",
   "execution_count": 7,
   "metadata": {
    "collapsed": false
   },
   "outputs": [
    {
     "data": {
      "text/html": [
       "<img src=\"https://earthengine.googleapis.com//api/thumb?thumbid=ff4053de0b70013f1b6791a7c38f37bc&token=acb90a6765c6ce4c2af8c5c35ba49499\"/>"
      ],
      "text/plain": [
       "<IPython.core.display.Image object>"
      ]
     },
     "metadata": {},
     "output_type": "display_data"
    },
    {
     "data": {
      "text/html": [
       "<img src=\"https://earthengine.googleapis.com//api/thumb?thumbid=2d4634ddd8534bee5e261c7b55a79e98&token=bc2026e069b96e68867d48b01286bd02\"/>"
      ],
      "text/plain": [
       "<IPython.core.display.Image object>"
      ]
     },
     "metadata": {},
     "output_type": "display_data"
    }
   ],
   "source": [
    "Irene= ee.Image(\"users/kuhniculous/popImage\")\n",
    "\n",
    "from IPython.display import display,Image\n",
    "test=ee.Image(Irene)\n",
    "\n",
    "display(Image(url=test.select(['b1']).getThumbUrl({'gamma':2})))\n",
    "\n",
    "Lparams = {\n",
    "    'min':7,\n",
    "    'max':7.5,\n",
    "    'palette':'000000,ff0000',\n",
    "    };\n",
    "display(Image(url=test.select([\"b1\"]).getThumbUrl(Lparams)))\n",
    "\n"
   ]
  },
  {
   "cell_type": "markdown",
   "metadata": {},
   "source": [
    "### Try it with mapclient"
   ]
  },
  {
   "cell_type": "markdown",
   "metadata": {},
   "source": [
    "This code will run but then nothing happens. I have no idea why!"
   ]
  },
  {
   "cell_type": "code",
   "execution_count": 10,
   "metadata": {
    "collapsed": false
   },
   "outputs": [],
   "source": [
    "\"\"\"Select rows from a fusion table.\"\"\"\n",
    "\n",
    "import ee\n",
    "import ee.mapclient\n",
    "\n",
    "ee.Initialize()\n",
    "ee.mapclient.centerMap(-93, 40, 4)\n",
    "\n",
    "# Select the 'Sonoran desert' feature from the TNC Ecoregions fusion table.\n",
    "\n",
    "fc = (ee.FeatureCollection('ft:1Ec8IWsP8asxN-ywSqgXWMuBaxI6pPaeh6hC64lA')\n",
    "      .filter(ee.Filter().eq('ECO_NAME', 'Sonoran desert')))\n",
    "\n",
    "# Paint it into a blank image.\n",
    "image1 = ee.Image(0).mask(0)\n",
    "ee.mapclient.addToMap(image1.paint(fc, 0, 5))"
   ]
  },
  {
   "cell_type": "markdown",
   "metadata": {},
   "source": [
    "## Testing Out Jill's Method for Displaying Maps"
   ]
  },
  {
   "cell_type": "code",
   "execution_count": 11,
   "metadata": {
    "collapsed": false
   },
   "outputs": [],
   "source": [
    "%matplotlib inline\n",
    "\n",
    "from __future__ import print_function # For py 2.7 compat\n",
    "\n",
    "import datetime\n",
    "from IPython.html import widgets\n",
    "from IPython.display import display\n",
    "from IPython.utils import traitlets\n",
    "from IPython.core.display import Javascript"
   ]
  },
  {
   "cell_type": "code",
   "execution_count": 12,
   "metadata": {
    "collapsed": false
   },
   "outputs": [
    {
     "name": "stderr",
     "output_type": "stream",
     "text": [
      "/Users/catherinekuhn/miniconda2/envs/ee-python/lib/python2.7/site-packages/ipykernel/__main__.py:2: DeprecationWarning: metadata {'sync': True} was set from the constructor.  Metadata should be set using the .tag() method, e.g., Int().tag(key1='value1', key2='value2')\n",
      "  from ipykernel import kernelapp as app\n",
      "/Users/catherinekuhn/miniconda2/envs/ee-python/lib/python2.7/site-packages/ipykernel/__main__.py:3: DeprecationWarning: metadata {'sync': True} was set from the constructor.  Metadata should be set using the .tag() method, e.g., Int().tag(key1='value1', key2='value2')\n",
      "  app.launch_new_instance()\n",
      "/Users/catherinekuhn/miniconda2/envs/ee-python/lib/python2.7/site-packages/ipykernel/__main__.py:4: DeprecationWarning: metadata {'sync': True} was set from the constructor.  Metadata should be set using the .tag() method, e.g., Int().tag(key1='value1', key2='value2')\n",
      "/Users/catherinekuhn/miniconda2/envs/ee-python/lib/python2.7/site-packages/ipykernel/__main__.py:5: DeprecationWarning: metadata {'sync': True} was set from the constructor.  Metadata should be set using the .tag() method, e.g., Int().tag(key1='value1', key2='value2')\n",
      "/Users/catherinekuhn/miniconda2/envs/ee-python/lib/python2.7/site-packages/ipykernel/__main__.py:6: DeprecationWarning: metadata {'sync': True} was set from the constructor.  Metadata should be set using the .tag() method, e.g., Int().tag(key1='value1', key2='value2')\n",
      "/Users/catherinekuhn/miniconda2/envs/ee-python/lib/python2.7/site-packages/ipykernel/__main__.py:7: DeprecationWarning: metadata {'sync': True} was set from the constructor.  Metadata should be set using the .tag() method, e.g., Int().tag(key1='value1', key2='value2')\n",
      "/Users/catherinekuhn/miniconda2/envs/ee-python/lib/python2.7/site-packages/ipykernel/__main__.py:8: DeprecationWarning: metadata {'sync': True} was set from the constructor.  Metadata should be set using the .tag() method, e.g., Int().tag(key1='value1', key2='value2')\n"
     ]
    },
    {
     "data": {
      "application/javascript": [
       "\n",
       "require([\"widgets/js/widget\"], function(WidgetManager){\n",
       "    var maps = [];\n",
       "    \n",
       "    // Define the GoogleMapsView\n",
       "    var GoogleMapsView = IPython.DOMWidgetView.extend({\n",
       "        \n",
       "        render: function() {\n",
       "            // Resize widget element to be 100% wide\n",
       "            this.$el.css('width', '100%');\n",
       "\n",
       "            // iframe source;  just enough to load Google Maps and let us poll whether initialization is complete\n",
       "            var src='<html style=\"height:100%\"><head>' +\n",
       "                '<scr'+'ipt src=\"http://maps.googleapis.com/maps/api/js?sensor=false\"></scr'+'ipt>' +\n",
       "                '<scr'+'ipt>google.maps.event.addDomListener(window,\"load\",function(){ready=true});</scr'+'ipt>' +\n",
       "                '</head>' +\n",
       "                '<body style=\"height:100%; margin:0px; padding:0px\"></body></html>';\n",
       "            \n",
       "            // Create the Google Maps container element.\n",
       "            this.$iframe = $('<iframe />')\n",
       "                .css('width', '100%')\n",
       "                .css('height', '1000px')\n",
       "                .attr('srcdoc', src)\n",
       "                .appendTo(this.$el);\n",
       "                        \n",
       "            var self = this; // hold onto this for initMapWhenReady\n",
       "\n",
       "            // Wait until maps library has finished loading in iframe, then create map\n",
       "            function initMapWhenReady() {\n",
       "                // Iframe document and window\n",
       "                var doc = self.$iframe[0].contentDocument;\n",
       "                var win = self.$iframe[0].contentWindow;\n",
       "                if (!win || !win.ready) {\n",
       "                    // Maps library not yet loaded;  try again soon\n",
       "                    setTimeout(initMapWhenReady, 20);\n",
       "                    return;\n",
       "                }\n",
       "\n",
       "                // Maps library finished loading.  Build map now.\n",
       "                var mapOptions = {\n",
       "                    center: new win.google.maps.LatLng(self.model.get('lat'), self.model.get('lng')),\n",
       "                    zoom: self.model.get('zoom')\n",
       "                };\n",
       "                var mapDiv = $('<div />')\n",
       "                    .css('width', '100%')\n",
       "                    .css('height', '100%')\n",
       "                    .appendTo($(doc.body));\n",
       "                self.map = new win.google.maps.Map(mapDiv[0], mapOptions);\n",
       "                \n",
       "                \n",
       "                // Add an event listeners for user panning, zooming, and resizing map\n",
       "                // TODO(rsargent): Bind self across all methods, and save some plumbing here\n",
       "                win.google.maps.event.addListener(self.map, 'bounds_changed', function () {\n",
       "                    self.handleBoundsChanged();\n",
       "                });\n",
       "                \n",
       "                self.initializeLayersControl();\n",
       "            }\n",
       "            initMapWhenReady();\n",
       "        },\n",
       "        \n",
       "        LayersControl: function(widget, controlDiv, map) {\n",
       "            var win = widget.$iframe[0].contentWindow;\n",
       "            var chicago = new win.google.maps.LatLng(41.850033, -87.6500523);\n",
       "\n",
       "            // Set CSS styles for the DIV containing the control\n",
       "            // Setting padding to 5 px will offset the control\n",
       "            // from the edge of the map.\n",
       "            controlDiv.style.padding = '5px';\n",
       "\n",
       "            // Set CSS for the control border.\n",
       "            var $controlUI = $('<div />')\n",
       "                .css('backgroundColor', 'white')\n",
       "                .css('borderStyle', 'solid')\n",
       "                .css('borderWidth', '1px')\n",
       "                .css('cursor', 'pointer')\n",
       "                .css('textAlign', 'center')\n",
       "                .appendTo($(controlDiv));\n",
       "            \n",
       "            // Set CSS for the control interior.\n",
       "            var $controlContents = $('<div />')\n",
       "                .css('fontFamily', 'Arial,sans-serif')\n",
       "                .css('fontSize', '12px')\n",
       "                .css('paddingLeft', '4px')\n",
       "                .css('paddingRight', '4px')\n",
       "                .css('paddingTop', '0px')\n",
       "                .css('paddingBottom', '0px')\n",
       "                .appendTo($controlUI);\n",
       "            \n",
       "            this.$controlTable = $('<table />')\n",
       "                .append($('<tr><td colspan=2>Layers</td></tr>'))\n",
       "                .appendTo($controlContents);\n",
       "        },\n",
       "\n",
       "        initializeLayersControl: function() {\n",
       "            var doc = this.$iframe[0].contentDocument;\n",
       "            var win = this.$iframe[0].contentWindow;\n",
       "\n",
       "            // Create the DIV to hold the control and call the LayersControl() constructor\n",
       "            // passing in this DIV.\n",
       "    \n",
       "            var layersControlDiv = document.createElement('div');\n",
       "            this.layersControl = new this.LayersControl(this, layersControlDiv, this.map);\n",
       "\n",
       "            layersControlDiv.index = 1;\n",
       "            this.map.controls[win.google.maps.ControlPosition.TOP_RIGHT].push(layersControlDiv);\n",
       "        },\n",
       "        \n",
       "        // Map geometry changed (pan, zoom, resize)\n",
       "        handleBoundsChanged: function() {\n",
       "            this.model.set('lng', this.map.getCenter().lng());\n",
       "            this.model.set('lat', this.map.getCenter().lat());\n",
       "            this.model.set('zoom', this.map.getZoom());\n",
       "            var bounds = this.map.getBounds();\n",
       "            var playgroundCompatible = [bounds.getSouthWest().lng(), bounds.getSouthWest().lat(),\n",
       "                                        bounds.getNorthEast().lng(), bounds.getNorthEast().lat()];\n",
       "            this.model.set('bounds', playgroundCompatible);\n",
       "            this.touch();\n",
       "        },\n",
       "        \n",
       "        // Receive custom messages from Python backend\n",
       "        on_msg: function(msg) {\n",
       "            var win = this.$iframe[0].contentWindow;\n",
       "            if (msg.command == 'addLayer') {\n",
       "                this.addLayer(msg.mapid, msg.token, msg.name, msg.visible);\n",
       "            } else if (msg.command == 'center') {\n",
       "                this.map.setCenter(new win.google.maps.LatLng(msg.lat, msg.lng));\n",
       "                if (msg.zoom !== null) {\n",
       "                    this.map.setZoom(msg.zoom);\n",
       "                }\n",
       "            }\n",
       "        },\n",
       "        \n",
       "        // Add an Earth Engine layer\n",
       "        addLayer: function(mapid, token, name, visible) {\n",
       "            var win = this.$iframe[0].contentWindow;\n",
       "            var eeMapOptions = {\n",
       "                getTileUrl: function(tile, zoom) {\n",
       "                    var url = ['https://earthengine.googleapis.com/map',\n",
       "                               mapid, zoom, tile.x, tile.y].join(\"/\");\n",
       "                    url += '?token=' + token\n",
       "                    return url;\n",
       "                },\n",
       "                tileSize: new win.google.maps.Size(256, 256),\n",
       "                opacity: visible ? 1.0 : 0.0,\n",
       "            };\n",
       "            \n",
       "            // Create the overlay map type\n",
       "            var mapType = new win.google.maps.ImageMapType(eeMapOptions);\n",
       "                \n",
       "            // Overlay the Earth Engine generated layer\n",
       "            this.map.overlayMapTypes.push(mapType);\n",
       "\n",
       "            // Update layer visibility control\n",
       "            var maxSlider = 100;\n",
       "            \n",
       "            function updateOpacity() {\n",
       "                mapType.setOpacity($checkbox[0].checked ? $slider[0].value / 100.0 : 0);\n",
       "            }\n",
       "            \n",
       "            var $checkbox = $('<input type=\"checkbox\">')\n",
       "                .prop('checked', visible)\n",
       "                .change(updateOpacity);\n",
       "            \n",
       "            var $slider = $('<input type=\"range\" />')\n",
       "                .prop('min', 0)\n",
       "                .prop('max', maxSlider)\n",
       "                .prop('value', maxSlider)\n",
       "                .css('width', '60px')\n",
       "                .on('input', updateOpacity);\n",
       "\n",
       "            // If user doesn't specify a layer name, create a default\n",
       "            if (name === null) {\n",
       "                name = 'Layer ' + this.map.overlayMapTypes.length;\n",
       "            }\n",
       "            \n",
       "            var $row = $('<tr />');\n",
       "            $('<td align=\"left\" />').append($checkbox).append(name).appendTo($row);\n",
       "            $('<td />').append($slider).appendTo($row);\n",
       "\n",
       "            this.layersControl.$controlTable.append($row);\n",
       "        }\n",
       "    });\n",
       "    \n",
       "    // Register the GoogleMapsView with the widget manager.\n",
       "    WidgetManager.register_widget_view('GoogleMapsView', GoogleMapsView);\n",
       "});\n"
      ],
      "text/plain": [
       "<IPython.core.display.Javascript object>"
      ]
     },
     "metadata": {},
     "output_type": "display_data"
    }
   ],
   "source": [
    "%run 'define_google_maps_interactive_widget.ipynb'"
   ]
  },
  {
   "cell_type": "code",
   "execution_count": 13,
   "metadata": {
    "collapsed": true
   },
   "outputs": [],
   "source": [
    "Irene= ee.Image(\"users/kuhniculous/popImage\")"
   ]
  },
  {
   "cell_type": "code",
   "execution_count": 14,
   "metadata": {
    "collapsed": false
   },
   "outputs": [
    {
     "ename": "AttributeError",
     "evalue": "'NoneType' object has no attribute 'send'",
     "output_type": "error",
     "traceback": [
      "\u001b[0;31m---------------------------------------------------------------------------\u001b[0m",
      "\u001b[0;31mAttributeError\u001b[0m                            Traceback (most recent call last)",
      "\u001b[0;32m/Users/catherinekuhn/miniconda2/envs/ee-python/lib/python2.7/site-packages/IPython/core/formatters.pyc\u001b[0m in \u001b[0;36m__call__\u001b[0;34m(self, obj)\u001b[0m\n\u001b[1;32m    905\u001b[0m             \u001b[0mmethod\u001b[0m \u001b[0;34m=\u001b[0m \u001b[0m_safe_get_formatter_method\u001b[0m\u001b[0;34m(\u001b[0m\u001b[0mobj\u001b[0m\u001b[0;34m,\u001b[0m \u001b[0mself\u001b[0m\u001b[0;34m.\u001b[0m\u001b[0mprint_method\u001b[0m\u001b[0;34m)\u001b[0m\u001b[0;34m\u001b[0m\u001b[0m\n\u001b[1;32m    906\u001b[0m             \u001b[0;32mif\u001b[0m \u001b[0mmethod\u001b[0m \u001b[0;32mis\u001b[0m \u001b[0;32mnot\u001b[0m \u001b[0mNone\u001b[0m\u001b[0;34m:\u001b[0m\u001b[0;34m\u001b[0m\u001b[0m\n\u001b[0;32m--> 907\u001b[0;31m                 \u001b[0mmethod\u001b[0m\u001b[0;34m(\u001b[0m\u001b[0;34m)\u001b[0m\u001b[0;34m\u001b[0m\u001b[0m\n\u001b[0m\u001b[1;32m    908\u001b[0m                 \u001b[0;32mreturn\u001b[0m \u001b[0mTrue\u001b[0m\u001b[0;34m\u001b[0m\u001b[0m\n\u001b[1;32m    909\u001b[0m \u001b[0;34m\u001b[0m\u001b[0m\n",
      "\u001b[0;32m/Users/catherinekuhn/miniconda2/envs/ee-python/lib/python2.7/site-packages/ipywidgets/widgets/widget.pyc\u001b[0m in \u001b[0;36m_ipython_display_\u001b[0;34m(self, **kwargs)\u001b[0m\n\u001b[1;32m    444\u001b[0m         \u001b[0;31m# Show view.\u001b[0m\u001b[0;34m\u001b[0m\u001b[0;34m\u001b[0m\u001b[0m\n\u001b[1;32m    445\u001b[0m         \u001b[0;32mif\u001b[0m \u001b[0mself\u001b[0m\u001b[0;34m.\u001b[0m\u001b[0m_view_name\u001b[0m \u001b[0;32mis\u001b[0m \u001b[0;32mnot\u001b[0m \u001b[0mNone\u001b[0m\u001b[0;34m:\u001b[0m\u001b[0;34m\u001b[0m\u001b[0m\n\u001b[0;32m--> 446\u001b[0;31m             \u001b[0mself\u001b[0m\u001b[0;34m.\u001b[0m\u001b[0m_send\u001b[0m\u001b[0;34m(\u001b[0m\u001b[0;34m{\u001b[0m\u001b[0;34m\"method\"\u001b[0m\u001b[0;34m:\u001b[0m \u001b[0;34m\"display\"\u001b[0m\u001b[0;34m}\u001b[0m\u001b[0;34m)\u001b[0m\u001b[0;34m\u001b[0m\u001b[0m\n\u001b[0m\u001b[1;32m    447\u001b[0m             \u001b[0mself\u001b[0m\u001b[0;34m.\u001b[0m\u001b[0m_handle_displayed\u001b[0m\u001b[0;34m(\u001b[0m\u001b[0;34m**\u001b[0m\u001b[0mkwargs\u001b[0m\u001b[0;34m)\u001b[0m\u001b[0;34m\u001b[0m\u001b[0m\n\u001b[1;32m    448\u001b[0m \u001b[0;34m\u001b[0m\u001b[0m\n",
      "\u001b[0;32m/Users/catherinekuhn/miniconda2/envs/ee-python/lib/python2.7/site-packages/ipywidgets/widgets/widget.pyc\u001b[0m in \u001b[0;36m_send\u001b[0;34m(self, msg, buffers)\u001b[0m\n\u001b[1;32m    449\u001b[0m     \u001b[0;32mdef\u001b[0m \u001b[0m_send\u001b[0m\u001b[0;34m(\u001b[0m\u001b[0mself\u001b[0m\u001b[0;34m,\u001b[0m \u001b[0mmsg\u001b[0m\u001b[0;34m,\u001b[0m \u001b[0mbuffers\u001b[0m\u001b[0;34m=\u001b[0m\u001b[0mNone\u001b[0m\u001b[0;34m)\u001b[0m\u001b[0;34m:\u001b[0m\u001b[0;34m\u001b[0m\u001b[0m\n\u001b[1;32m    450\u001b[0m         \u001b[0;34m\"\"\"Sends a message to the model in the front-end.\"\"\"\u001b[0m\u001b[0;34m\u001b[0m\u001b[0m\n\u001b[0;32m--> 451\u001b[0;31m         \u001b[0mself\u001b[0m\u001b[0;34m.\u001b[0m\u001b[0mcomm\u001b[0m\u001b[0;34m.\u001b[0m\u001b[0msend\u001b[0m\u001b[0;34m(\u001b[0m\u001b[0mdata\u001b[0m\u001b[0;34m=\u001b[0m\u001b[0mmsg\u001b[0m\u001b[0;34m,\u001b[0m \u001b[0mbuffers\u001b[0m\u001b[0;34m=\u001b[0m\u001b[0mbuffers\u001b[0m\u001b[0;34m)\u001b[0m\u001b[0;34m\u001b[0m\u001b[0m\n\u001b[0m\u001b[1;32m    452\u001b[0m \u001b[0;34m\u001b[0m\u001b[0m\n\u001b[1;32m    453\u001b[0m \u001b[0;34m\u001b[0m\u001b[0m\n",
      "\u001b[0;31mAttributeError\u001b[0m: 'NoneType' object has no attribute 'send'"
     ]
    },
    {
     "data": {
      "text/plain": [
       "<__main__.GoogleMapsWidget at 0x10c32d3d0>"
      ]
     },
     "metadata": {},
     "output_type": "display_data"
    },
    {
     "ename": "AttributeError",
     "evalue": "'NoneType' object has no attribute 'send'",
     "output_type": "error",
     "traceback": [
      "\u001b[0;31m---------------------------------------------------------------------------\u001b[0m",
      "\u001b[0;31mAttributeError\u001b[0m                            Traceback (most recent call last)",
      "\u001b[0;32m<ipython-input-14-fd002bb293db>\u001b[0m in \u001b[0;36m<module>\u001b[0;34m()\u001b[0m\n\u001b[1;32m      2\u001b[0m \u001b[0mdisplay\u001b[0m\u001b[0;34m(\u001b[0m\u001b[0mmap\u001b[0m\u001b[0;34m)\u001b[0m\u001b[0;34m\u001b[0m\u001b[0m\n\u001b[1;32m      3\u001b[0m \u001b[0;34m\u001b[0m\u001b[0m\n\u001b[0;32m----> 4\u001b[0;31m \u001b[0mmap\u001b[0m\u001b[0;34m.\u001b[0m\u001b[0maddLayer\u001b[0m\u001b[0;34m(\u001b[0m\u001b[0mIrene\u001b[0m\u001b[0;34m,\u001b[0m \u001b[0;34m{\u001b[0m\u001b[0;34m'color'\u001b[0m\u001b[0;34m:\u001b[0m \u001b[0;34m'FFFFCC'\u001b[0m\u001b[0;34m}\u001b[0m\u001b[0;34m,\u001b[0m \u001b[0mname\u001b[0m\u001b[0;34m=\u001b[0m\u001b[0;34m'Irene Map'\u001b[0m\u001b[0;34m)\u001b[0m\u001b[0;34m\u001b[0m\u001b[0m\n\u001b[0m",
      "\u001b[0;32m<ipython-input-12-5f10f8a4a45d>\u001b[0m in \u001b[0;36maddLayer\u001b[0;34m(self, image, vis_params, name, visible)\u001b[0m\n\u001b[1;32m     15\u001b[0m     \u001b[0;32mdef\u001b[0m \u001b[0maddLayer\u001b[0m\u001b[0;34m(\u001b[0m\u001b[0mself\u001b[0m\u001b[0;34m,\u001b[0m \u001b[0mimage\u001b[0m\u001b[0;34m,\u001b[0m \u001b[0mvis_params\u001b[0m\u001b[0;34m,\u001b[0m \u001b[0mname\u001b[0m\u001b[0;34m=\u001b[0m\u001b[0mNone\u001b[0m\u001b[0;34m,\u001b[0m \u001b[0mvisible\u001b[0m\u001b[0;34m=\u001b[0m\u001b[0mTrue\u001b[0m\u001b[0;34m)\u001b[0m\u001b[0;34m:\u001b[0m\u001b[0;34m\u001b[0m\u001b[0m\n\u001b[1;32m     16\u001b[0m         \u001b[0mmapid\u001b[0m \u001b[0;34m=\u001b[0m \u001b[0mimage\u001b[0m\u001b[0;34m.\u001b[0m\u001b[0mgetMapId\u001b[0m\u001b[0;34m(\u001b[0m\u001b[0mvis_params\u001b[0m\u001b[0;34m)\u001b[0m\u001b[0;34m\u001b[0m\u001b[0m\n\u001b[0;32m---> 17\u001b[0;31m         \u001b[0mself\u001b[0m\u001b[0;34m.\u001b[0m\u001b[0msend\u001b[0m\u001b[0;34m(\u001b[0m\u001b[0;34m{\u001b[0m\u001b[0;34m'command'\u001b[0m\u001b[0;34m:\u001b[0m\u001b[0;34m'addLayer'\u001b[0m\u001b[0;34m,\u001b[0m \u001b[0;34m'mapid'\u001b[0m\u001b[0;34m:\u001b[0m \u001b[0mmapid\u001b[0m\u001b[0;34m[\u001b[0m\u001b[0;34m'mapid'\u001b[0m\u001b[0;34m]\u001b[0m\u001b[0;34m,\u001b[0m \u001b[0;34m'token'\u001b[0m\u001b[0;34m:\u001b[0m \u001b[0mmapid\u001b[0m\u001b[0;34m[\u001b[0m\u001b[0;34m'token'\u001b[0m\u001b[0;34m]\u001b[0m\u001b[0;34m,\u001b[0m \u001b[0;34m'name'\u001b[0m\u001b[0;34m:\u001b[0m \u001b[0mname\u001b[0m\u001b[0;34m,\u001b[0m \u001b[0;34m'visible'\u001b[0m\u001b[0;34m:\u001b[0m \u001b[0mvisible\u001b[0m\u001b[0;34m}\u001b[0m\u001b[0;34m)\u001b[0m\u001b[0;34m\u001b[0m\u001b[0m\n\u001b[0m\u001b[1;32m     18\u001b[0m \u001b[0;34m\u001b[0m\u001b[0m\n\u001b[1;32m     19\u001b[0m     \u001b[0;32mdef\u001b[0m \u001b[0mcenter\u001b[0m\u001b[0;34m(\u001b[0m\u001b[0mself\u001b[0m\u001b[0;34m,\u001b[0m \u001b[0mlng\u001b[0m\u001b[0;34m,\u001b[0m \u001b[0mlat\u001b[0m\u001b[0;34m,\u001b[0m \u001b[0mzoom\u001b[0m\u001b[0;34m=\u001b[0m\u001b[0mNone\u001b[0m\u001b[0;34m)\u001b[0m\u001b[0;34m:\u001b[0m\u001b[0;34m\u001b[0m\u001b[0m\n",
      "\u001b[0;32m/Users/catherinekuhn/miniconda2/envs/ee-python/lib/python2.7/site-packages/ipywidgets/widgets/widget.pyc\u001b[0m in \u001b[0;36msend\u001b[0;34m(self, content, buffers)\u001b[0m\n\u001b[1;32m    295\u001b[0m             \u001b[0mBinary\u001b[0m \u001b[0mbuffers\u001b[0m \u001b[0mto\u001b[0m \u001b[0msend\u001b[0m \u001b[0;32mwith\u001b[0m \u001b[0mmessage\u001b[0m\u001b[0;34m\u001b[0m\u001b[0m\n\u001b[1;32m    296\u001b[0m         \"\"\"\n\u001b[0;32m--> 297\u001b[0;31m         \u001b[0mself\u001b[0m\u001b[0;34m.\u001b[0m\u001b[0m_send\u001b[0m\u001b[0;34m(\u001b[0m\u001b[0;34m{\u001b[0m\u001b[0;34m\"method\"\u001b[0m\u001b[0;34m:\u001b[0m \u001b[0;34m\"custom\"\u001b[0m\u001b[0;34m,\u001b[0m \u001b[0;34m\"content\"\u001b[0m\u001b[0;34m:\u001b[0m \u001b[0mcontent\u001b[0m\u001b[0;34m}\u001b[0m\u001b[0;34m,\u001b[0m \u001b[0mbuffers\u001b[0m\u001b[0;34m=\u001b[0m\u001b[0mbuffers\u001b[0m\u001b[0;34m)\u001b[0m\u001b[0;34m\u001b[0m\u001b[0m\n\u001b[0m\u001b[1;32m    298\u001b[0m \u001b[0;34m\u001b[0m\u001b[0m\n\u001b[1;32m    299\u001b[0m     \u001b[0;32mdef\u001b[0m \u001b[0mon_msg\u001b[0m\u001b[0;34m(\u001b[0m\u001b[0mself\u001b[0m\u001b[0;34m,\u001b[0m \u001b[0mcallback\u001b[0m\u001b[0;34m,\u001b[0m \u001b[0mremove\u001b[0m\u001b[0;34m=\u001b[0m\u001b[0mFalse\u001b[0m\u001b[0;34m)\u001b[0m\u001b[0;34m:\u001b[0m\u001b[0;34m\u001b[0m\u001b[0m\n",
      "\u001b[0;32m/Users/catherinekuhn/miniconda2/envs/ee-python/lib/python2.7/site-packages/ipywidgets/widgets/widget.pyc\u001b[0m in \u001b[0;36m_send\u001b[0;34m(self, msg, buffers)\u001b[0m\n\u001b[1;32m    449\u001b[0m     \u001b[0;32mdef\u001b[0m \u001b[0m_send\u001b[0m\u001b[0;34m(\u001b[0m\u001b[0mself\u001b[0m\u001b[0;34m,\u001b[0m \u001b[0mmsg\u001b[0m\u001b[0;34m,\u001b[0m \u001b[0mbuffers\u001b[0m\u001b[0;34m=\u001b[0m\u001b[0mNone\u001b[0m\u001b[0;34m)\u001b[0m\u001b[0;34m:\u001b[0m\u001b[0;34m\u001b[0m\u001b[0m\n\u001b[1;32m    450\u001b[0m         \u001b[0;34m\"\"\"Sends a message to the model in the front-end.\"\"\"\u001b[0m\u001b[0;34m\u001b[0m\u001b[0m\n\u001b[0;32m--> 451\u001b[0;31m         \u001b[0mself\u001b[0m\u001b[0;34m.\u001b[0m\u001b[0mcomm\u001b[0m\u001b[0;34m.\u001b[0m\u001b[0msend\u001b[0m\u001b[0;34m(\u001b[0m\u001b[0mdata\u001b[0m\u001b[0;34m=\u001b[0m\u001b[0mmsg\u001b[0m\u001b[0;34m,\u001b[0m \u001b[0mbuffers\u001b[0m\u001b[0;34m=\u001b[0m\u001b[0mbuffers\u001b[0m\u001b[0;34m)\u001b[0m\u001b[0;34m\u001b[0m\u001b[0m\n\u001b[0m\u001b[1;32m    452\u001b[0m \u001b[0;34m\u001b[0m\u001b[0m\n\u001b[1;32m    453\u001b[0m \u001b[0;34m\u001b[0m\u001b[0m\n",
      "\u001b[0;31mAttributeError\u001b[0m: 'NoneType' object has no attribute 'send'"
     ]
    }
   ],
   "source": [
    "map = GoogleMapsWidget(lat=59.5, lng=10.9, zoom=13) # lat, lng and zoom are optional\n",
    "display(map)\n",
    "\n",
    "map.addLayer(Irene, {'color': 'FFFFCC'}, name='Irene Map')"
   ]
  }
 ],
 "metadata": {
  "kernelspec": {
   "display_name": "Python 2",
   "language": "python",
   "name": "python2"
  },
  "language_info": {
   "codemirror_mode": {
    "name": "ipython",
    "version": 2
   },
   "file_extension": ".py",
   "mimetype": "text/x-python",
   "name": "python",
   "nbconvert_exporter": "python",
   "pygments_lexer": "ipython2",
   "version": "2.7.11"
  }
 },
 "nbformat": 4,
 "nbformat_minor": 0
}
