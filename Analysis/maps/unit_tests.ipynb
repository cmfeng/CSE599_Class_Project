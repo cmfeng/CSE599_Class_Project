{
 "metadata": {
  "name": "",
  "signature": "sha256:9f1ab0f8e8a20eeaef194468452c8e5aa250c0197074136e491005a85567c9aa"
 },
 "nbformat": 3,
 "nbformat_minor": 0,
 "worksheets": [
  {
   "cells": [
    {
     "cell_type": "code",
     "collapsed": false,
     "input": [
      "''' Unit tests for ee_utils.py '''\n",
      "\n",
      "import unittest\n",
      "import os\n",
      "\n",
      "\n",
      "% run 'ee_utils.ipynb'\n",
      "initialize_api()\n",
      "\n",
      "\n",
      "\n",
      "class TestProntoUtils(unittest.TestCase):\n",
      "\n",
      "    # Did authetication work? \n",
      "    def testAuthentication(self):\n",
      "        try:\n",
      "            ee.Initialize()\n",
      "            print(\"Authentication successful!\")\n",
      "        except:\n",
      "            print('Authentication failed')\n",
      "\n",
      "    #Did the metadata actually export and save? \n",
      "    def testMetadatasave(self):\n",
      "        self.assertTrue(os.path.exists('missco2_metadata.txt '), \"Failed to save image data.\")\n",
      "        \n",
      "\n",
      "        \n",
      "if __name__ == '__main__':\n",
      "    unittest.main()"
     ],
     "language": "python",
     "metadata": {},
     "outputs": []
    }
   ],
   "metadata": {}
  }
 ]
}