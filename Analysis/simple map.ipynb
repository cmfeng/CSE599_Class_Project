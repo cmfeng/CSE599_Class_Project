{
 "cells": [
  {
   "cell_type": "markdown",
   "metadata": {},
   "source": [
    "# Generating a basic map image in Earth Engine"
   ]
  },
  {
   "cell_type": "markdown",
   "metadata": {},
   "source": [
    "## Install ee-python\n",
    "\n",
    "Follow the installation directions found here:\n",
    "\n",
    "https://github.com/catherinekuhn/CloudtoStreet/blob/master/Python%20API%20directions.ipynb\n",
    "\n",
    "## Check your environment\n",
    "Make sure that you are in the correct environment. To check your current environment, type the following. The environment you are in will have a star next to it. \n",
    "\n",
    "        conda info --envs\n",
    "\n",
    "If you are not in the ee-python environment, you can switch into it using \n",
    "\n",
    "        source activate ee-python\n"
   ]
  },
  {
   "cell_type": "markdown",
   "metadata": {},
   "source": [
    "## Import & Authentication "
   ]
  },
  {
   "cell_type": "code",
   "execution_count": 1,
   "metadata": {
    "collapsed": true
   },
   "outputs": [],
   "source": [
    "# Import the Earth Engine Python Package into Python environment.\n",
    "import ee\n",
    "import ee.mapclient\n",
    "\n",
    "# Initialize the Earth Engine object, using the authentication credentials.\n",
    "ee.Initialize()"
   ]
  },
  {
   "cell_type": "markdown",
   "metadata": {},
   "source": [
    "## Visualize Geographic Data"
   ]
  },
  {
   "cell_type": "code",
   "execution_count": 2,
   "metadata": {
    "collapsed": false
   },
   "outputs": [
    {
     "data": {
      "text/html": [
       "<img src=\"https://earthengine.googleapis.com//api/thumb?thumbid=d3309596490160c51ecf1e0ef470ccf3&token=44a591126c19c74605059ecc7bea2028\"/>"
      ],
      "text/plain": [
       "<IPython.core.display.Image object>"
      ]
     },
     "execution_count": 2,
     "metadata": {},
     "output_type": "execute_result"
    }
   ],
   "source": [
    "image = ee.Image('srtm90_v4')\n",
    "from IPython.display import Image\n",
    "Image(url=image.getThumbUrl({'min':0, 'max': 3000}))"
   ]
  },
  {
   "cell_type": "code",
   "execution_count": 3,
   "metadata": {
    "collapsed": false
   },
   "outputs": [
    {
     "name": "stdout",
     "output_type": "stream",
     "text": [
      "{u'bands': [{u'crs': u'EPSG:4326', u'crs_transform': [0.0008333333535119891, 0.0, -180.0, 0.0, -0.0008333333535119891, 60.0], u'id': u'elevation', u'data_type': {u'max': 32767, u'type': u'PixelType', u'precision': u'int', u'min': -32768}, u'dimensions': [432000, 144000]}], u'version': 1427492341199000, u'type': u'Image', u'id': u'srtm90_v4', u'properties': {u'system:time_end': 951177600000, u'system:time_start': 950227200000}}\n"
     ]
    }
   ],
   "source": [
    "# Print the information for an image asset. the 'srtm90_v4 file is a digital elevation model. \n",
    "# that is housed in Google's cloud and has an elevation value for every pixel across the whole earth \n",
    "# at a resolution of 30 meters. That is the map you see below in the static notebook. \n",
    "\n",
    "print(image.getInfo())\n",
    "\n",
    "#celebrate the metadata!!"
   ]
  },
  {
   "cell_type": "code",
   "execution_count": 7,
   "metadata": {
    "collapsed": false
   },
   "outputs": [
    {
     "data": {
      "text/html": [
       "<img src=\"https://earthengine.googleapis.com//api/thumb?thumbid=68535c8f8671b7215ffb6f2269ad7af7&token=df4aa2bebf27200ae7c14e616eb52733\"/>"
      ],
      "text/plain": [
       "<IPython.core.display.Image object>"
      ]
     },
     "metadata": {},
     "output_type": "display_data"
    },
    {
     "data": {
      "text/html": [
       "<img src=\"https://earthengine.googleapis.com//api/thumb?thumbid=ea99312aebda78d5db56a431117cb394&token=d8571af4462a0cf696582efa00f5e72a\"/>"
      ],
      "text/plain": [
       "<IPython.core.display.Image object>"
      ]
     },
     "metadata": {},
     "output_type": "display_data"
    }
   ],
   "source": [
    "Irene= ee.Image(\"users/kuhniculous/floodwithnoletters\")\n",
    "\n",
    "from IPython.display import display,Image\n",
    "test=ee.Image(Irene)\n",
    "\n",
    "display(Image(url=test.select(['b1']).getThumbUrl({'gamma':2})))\n",
    "\n",
    "Lparams = {\n",
    "    'min':0.0134,\n",
    "    'max':0.0338,\n",
    "    'palette':'000000,0000ff,00ffff,00ff00,ffff00,ffa500,ff0000',\n",
    "    };\n",
    "display(Image(url=test.select([\"b1\"]).getThumbUrl(Lparams)))\n"
   ]
  },
  {
   "cell_type": "code",
   "execution_count": 20,
   "metadata": {
    "collapsed": false
   },
   "outputs": [
    {
     "data": {
      "text/html": [
       "<img src=\"https://earthengine.googleapis.com//api/thumb?thumbid=ff4053de0b70013f1b6791a7c38f37bc&token=50ad86d4fd64fd96d2d64eff10589736\"/>"
      ],
      "text/plain": [
       "<IPython.core.display.Image object>"
      ]
     },
     "metadata": {},
     "output_type": "display_data"
    },
    {
     "data": {
      "text/html": [
       "<img src=\"https://earthengine.googleapis.com//api/thumb?thumbid=2d4634ddd8534bee5e261c7b55a79e98&token=bb48330d6069368ccffcb3a784f51772\"/>"
      ],
      "text/plain": [
       "<IPython.core.display.Image object>"
      ]
     },
     "metadata": {},
     "output_type": "display_data"
    }
   ],
   "source": [
    "Irene= ee.Image(\"users/kuhniculous/popImage\")\n",
    "\n",
    "from IPython.display import display,Image\n",
    "test=ee.Image(Irene)\n",
    "\n",
    "display(Image(url=test.select(['b1']).getThumbUrl({'gamma':2})))\n",
    "\n",
    "Lparams = {\n",
    "    'min':7,\n",
    "    'max':7.5,\n",
    "    'palette':'000000,ff0000',\n",
    "    };\n",
    "display(Image(url=test.select([\"b1\"]).getThumbUrl(Lparams)))\n",
    "\n"
   ]
  },
  {
   "cell_type": "markdown",
   "metadata": {},
   "source": [
    "### Try it with mapclient"
   ]
  },
  {
   "cell_type": "markdown",
   "metadata": {},
   "source": [
    "from IPython.display import display,Image\n",
    "test=ee.Image(YourImage)\n",
    "\n",
    "display(Image(url=test.select([\"B3\",\"B2\",\"B1\"]).getThumbUrl({'gamma':2})))\n",
    "\n",
    "Lparams = {\n",
    "    'min':0.0134,\n",
    "    'max':0.0338,\n",
    "    'palette':'000000,0000ff,00ffff,00ff00,ffff00,ffa500,ff0000',\n",
    "    };\n",
    "    \n",
    "display(Image(url=test.select([\"NIRwithSAC\"]).getThumbUrl(Lparams)))\n"
   ]
  },
  {
   "cell_type": "markdown",
   "metadata": {},
   "source": [
    "This code will run but then nothing happens. I have no idea why!"
   ]
  },
  {
   "cell_type": "code",
   "execution_count": null,
   "metadata": {
    "collapsed": false
   },
   "outputs": [],
   "source": [
    "\"\"\"Select rows from a fusion table.\"\"\"\n",
    "\n",
    "import ee\n",
    "import ee.mapclient\n",
    "\n",
    "ee.Initialize()\n",
    "ee.mapclient.centerMap(-93, 40, 4)\n",
    "\n",
    "# Select the 'Sonoran desert' feature from the TNC Ecoregions fusion table.\n",
    "\n",
    "fc = (ee.FeatureCollection('ft:1Ec8IWsP8asxN-ywSqgXWMuBaxI6pPaeh6hC64lA')\n",
    "      .filter(ee.Filter().eq('ECO_NAME', 'Sonoran desert')))\n",
    "\n",
    "# Paint it into a blank image.\n",
    "image1 = ee.Image(0).mask(0)\n",
    "ee.mapclient.addToMap(image1.paint(fc, 0, 5))\n"
   ]
  }
 ],
 "metadata": {
  "kernelspec": {
   "display_name": "Python 2",
   "language": "python",
   "name": "python2"
  },
  "language_info": {
   "codemirror_mode": {
    "name": "ipython",
    "version": 2
   },
   "file_extension": ".py",
   "mimetype": "text/x-python",
   "name": "python",
   "nbconvert_exporter": "python",
   "pygments_lexer": "ipython2",
   "version": "2.7.11"
  }
 },
 "nbformat": 4,
 "nbformat_minor": 0
}
