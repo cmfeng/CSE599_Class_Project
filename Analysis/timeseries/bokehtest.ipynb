{
 "cells": [
  {
   "cell_type": "markdown",
   "metadata": {},
   "source": [
    "# Install Bokeh\n",
    "Here are two ways to install Bokeh\n",
    "\n",
    "## 1. If you are already an Anaconda user, you can simply run the command:\n",
    "\n",
    "conda install bokeh\n",
    "\n",
    "This will install the most recent published Bokeh release from the Continuum Analytics Anaconda repository, along with all dependencies.\n",
    "\n",
    "## 2. Alternatively, it is possible to install from PyPI using pip:\n",
    "\n",
    "pip install bokeh"
   ]
  },
  {
   "cell_type": "code",
   "execution_count": 1,
   "metadata": {
    "collapsed": false
   },
   "outputs": [],
   "source": [
    "import TimeSeries as ts\n",
    "import pandas as pd"
   ]
  },
  {
   "cell_type": "markdown",
   "metadata": {},
   "source": [
    "I am using csv file in Mississippi folder for example here. Make sure you write the right path and file name of the csv file is in the next cells. "
   ]
  },
  {
   "cell_type": "code",
   "execution_count": 2,
   "metadata": {
    "collapsed": false
   },
   "outputs": [
    {
     "name": "stdout",
     "output_type": "stream",
     "text": [
      "C:\\cse599\\class_project\\class_project\\Data\\mississippi\n"
     ]
    }
   ],
   "source": [
    "cd ../../Data/mississippi/"
   ]
  },
  {
   "cell_type": "markdown",
   "metadata": {},
   "source": [
    "If you are using your ready-to-go pandas dataframe, just set data equals your dataframe. If there are other than one columns at the end of your dataframe which is string indicator not to be shown in the plot, line 20 in TimeSeires.py needs to be changed. Just set the number 2 to (number of indicator columns -1). "
   ]
  },
  {
   "cell_type": "code",
   "execution_count": 3,
   "metadata": {
    "collapsed": false
   },
   "outputs": [],
   "source": [
    "data = pd.read_csv('UMR_Day42015-08-04_Nulls_Removed.csv')"
   ]
  },
  {
   "cell_type": "code",
   "execution_count": 4,
   "metadata": {
    "collapsed": false,
    "scrolled": false
   },
   "outputs": [
    {
     "data": {
      "text/html": [
       "<div>\n",
       "<table border=\"1\" class=\"dataframe\">\n",
       "  <thead>\n",
       "    <tr style=\"text-align: right;\">\n",
       "      <th></th>\n",
       "      <th>ltime</th>\n",
       "      <th>Latitude</th>\n",
       "      <th>Longitude</th>\n",
       "      <th>Temp</th>\n",
       "      <th>fDOMQSU</th>\n",
       "      <th>ODOsat</th>\n",
       "      <th>ODOmg/L</th>\n",
       "      <th>pH</th>\n",
       "      <th>CH4uM</th>\n",
       "      <th>CO2uM</th>\n",
       "      <th>Cond</th>\n",
       "      <th>indicator</th>\n",
       "    </tr>\n",
       "  </thead>\n",
       "  <tbody>\n",
       "    <tr>\n",
       "      <th>0</th>\n",
       "      <td>8/4/15 8:56</td>\n",
       "      <td>43.664773</td>\n",
       "      <td>-91.238209</td>\n",
       "      <td>22.6392</td>\n",
       "      <td>80.448</td>\n",
       "      <td>97.81</td>\n",
       "      <td>8.35761</td>\n",
       "      <td>8.70</td>\n",
       "      <td>0.239870</td>\n",
       "      <td>11.897216</td>\n",
       "      <td>408.02</td>\n",
       "      <td>Mississippi</td>\n",
       "    </tr>\n",
       "    <tr>\n",
       "      <th>1</th>\n",
       "      <td>8/4/15 8:56</td>\n",
       "      <td>43.664777</td>\n",
       "      <td>-91.238210</td>\n",
       "      <td>22.6382</td>\n",
       "      <td>80.440</td>\n",
       "      <td>97.68</td>\n",
       "      <td>8.35128</td>\n",
       "      <td>8.69</td>\n",
       "      <td>0.250415</td>\n",
       "      <td>11.900610</td>\n",
       "      <td>408.22</td>\n",
       "      <td>Mississippi</td>\n",
       "    </tr>\n",
       "    <tr>\n",
       "      <th>2</th>\n",
       "      <td>8/4/15 8:56</td>\n",
       "      <td>43.664780</td>\n",
       "      <td>-91.238211</td>\n",
       "      <td>22.6354</td>\n",
       "      <td>80.480</td>\n",
       "      <td>97.65</td>\n",
       "      <td>8.34495</td>\n",
       "      <td>8.69</td>\n",
       "      <td>0.228742</td>\n",
       "      <td>11.775067</td>\n",
       "      <td>407.76</td>\n",
       "      <td>Mississippi</td>\n",
       "    </tr>\n",
       "    <tr>\n",
       "      <th>3</th>\n",
       "      <td>8/4/15 8:56</td>\n",
       "      <td>43.664783</td>\n",
       "      <td>-91.238211</td>\n",
       "      <td>22.6334</td>\n",
       "      <td>80.488</td>\n",
       "      <td>97.52</td>\n",
       "      <td>8.36229</td>\n",
       "      <td>8.69</td>\n",
       "      <td>0.219063</td>\n",
       "      <td>11.757889</td>\n",
       "      <td>407.38</td>\n",
       "      <td>Mississippi</td>\n",
       "    </tr>\n",
       "    <tr>\n",
       "      <th>4</th>\n",
       "      <td>8/4/15 8:56</td>\n",
       "      <td>43.664787</td>\n",
       "      <td>-91.238209</td>\n",
       "      <td>22.6324</td>\n",
       "      <td>80.508</td>\n",
       "      <td>97.49</td>\n",
       "      <td>8.36596</td>\n",
       "      <td>8.69</td>\n",
       "      <td>0.244385</td>\n",
       "      <td>11.918703</td>\n",
       "      <td>407.84</td>\n",
       "      <td>Mississippi</td>\n",
       "    </tr>\n",
       "  </tbody>\n",
       "</table>\n",
       "</div>"
      ],
      "text/plain": [
       "         ltime   Latitude  Longitude     Temp  fDOMQSU  ODOsat  ODOmg/L    pH  \\\n",
       "0  8/4/15 8:56  43.664773 -91.238209  22.6392   80.448   97.81  8.35761  8.70   \n",
       "1  8/4/15 8:56  43.664777 -91.238210  22.6382   80.440   97.68  8.35128  8.69   \n",
       "2  8/4/15 8:56  43.664780 -91.238211  22.6354   80.480   97.65  8.34495  8.69   \n",
       "3  8/4/15 8:56  43.664783 -91.238211  22.6334   80.488   97.52  8.36229  8.69   \n",
       "4  8/4/15 8:56  43.664787 -91.238209  22.6324   80.508   97.49  8.36596  8.69   \n",
       "\n",
       "      CH4uM      CO2uM    Cond    indicator  \n",
       "0  0.239870  11.897216  408.02  Mississippi  \n",
       "1  0.250415  11.900610  408.22  Mississippi  \n",
       "2  0.228742  11.775067  407.76  Mississippi  \n",
       "3  0.219063  11.757889  407.38  Mississippi  \n",
       "4  0.244385  11.918703  407.84  Mississippi  "
      ]
     },
     "execution_count": 4,
     "metadata": {},
     "output_type": "execute_result"
    }
   ],
   "source": [
    "data.head()"
   ]
  },
  {
   "cell_type": "markdown",
   "metadata": {},
   "source": [
    "We can just ignore the warning message in the next cell which is for the modification of the dataframe not the csv file.\n",
    "\n",
    "The interactive plotting only works for single selection now, and I will work on the multiselection later."
   ]
  },
  {
   "cell_type": "code",
   "execution_count": 5,
   "metadata": {
    "collapsed": false
   },
   "outputs": [
    {
     "name": "stdout",
     "output_type": "stream",
     "text": [
      "C:\\cse599\\class_project\\class_project\\Analysis\\Timeplotting\n"
     ]
    }
   ],
   "source": [
    "cd ../../Analysis/Timeplotting/"
   ]
  },
  {
   "cell_type": "code",
   "execution_count": 6,
   "metadata": {
    "collapsed": false,
    "scrolled": true
   },
   "outputs": [
    {
     "data": {
      "text/html": [
       "\n",
       "    <div class=\"bk-banner\">\n",
       "        <a href=\"http://bokeh.pydata.org\" target=\"_blank\" class=\"bk-logo bk-logo-small bk-logo-notebook\"></a>\n",
       "        <span id=\"b1ae2c65-2de2-4466-b339-73d33dc67370\">Loading BokehJS ...</span>\n",
       "    </div>"
      ]
     },
     "metadata": {},
     "output_type": "display_data"
    },
    {
     "data": {
      "application/javascript": [
       "\n",
       "(function(global) {\n",
       "  function now() {\n",
       "    return new Date();\n",
       "  }\n",
       "\n",
       "  if (typeof (window._bokeh_onload_callbacks) === \"undefined\") {\n",
       "    window._bokeh_onload_callbacks = [];\n",
       "  }\n",
       "\n",
       "  function run_callbacks() {\n",
       "    window._bokeh_onload_callbacks.forEach(function(callback) { callback() });\n",
       "    delete window._bokeh_onload_callbacks\n",
       "    console.info(\"Bokeh: all callbacks have finished\");\n",
       "  }\n",
       "\n",
       "  function load_libs(js_urls, callback) {\n",
       "    window._bokeh_onload_callbacks.push(callback);\n",
       "    if (window._bokeh_is_loading > 0) {\n",
       "      console.log(\"Bokeh: BokehJS is being loaded, scheduling callback at\", now());\n",
       "      return null;\n",
       "    }\n",
       "    if (js_urls == null || js_urls.length === 0) {\n",
       "      run_callbacks();\n",
       "      return null;\n",
       "    }\n",
       "    console.log(\"Bokeh: BokehJS not loaded, scheduling load and callback at\", now());\n",
       "    window._bokeh_is_loading = js_urls.length;\n",
       "    for (var i = 0; i < js_urls.length; i++) {\n",
       "      var url = js_urls[i];\n",
       "      var s = document.createElement('script');\n",
       "      s.src = url;\n",
       "      s.async = false;\n",
       "      s.onreadystatechange = s.onload = function() {\n",
       "        window._bokeh_is_loading--;\n",
       "        if (window._bokeh_is_loading === 0) {\n",
       "          console.log(\"Bokeh: all BokehJS libraries loaded\");\n",
       "          run_callbacks()\n",
       "        }\n",
       "      };\n",
       "      s.onerror = function() {\n",
       "        console.warn(\"failed to load library \" + url);\n",
       "      };\n",
       "      console.log(\"Bokeh: injecting script tag for BokehJS library: \", url);\n",
       "      document.getElementsByTagName(\"head\")[0].appendChild(s);\n",
       "    }\n",
       "  };\n",
       "\n",
       "  var js_urls = ['https://cdn.pydata.org/bokeh/release/bokeh-0.11.1.min.js', 'https://cdn.pydata.org/bokeh/release/bokeh-widgets-0.11.1.min.js', 'https://cdn.pydata.org/bokeh/release/bokeh-compiler-0.11.1.min.js'];\n",
       "\n",
       "  var inline_js = [\n",
       "    function(Bokeh) {\n",
       "      Bokeh.set_log_level(\"info\");\n",
       "    },\n",
       "    \n",
       "    function(Bokeh) {\n",
       "      Bokeh.$(\"#b1ae2c65-2de2-4466-b339-73d33dc67370\").text(\"BokehJS successfully loaded\");\n",
       "    },\n",
       "    function(Bokeh) {\n",
       "      console.log(\"Bokeh: injecting CSS: https://cdn.pydata.org/bokeh/release/bokeh-0.11.1.min.css\");\n",
       "      Bokeh.embed.inject_css(\"https://cdn.pydata.org/bokeh/release/bokeh-0.11.1.min.css\");\n",
       "      console.log(\"Bokeh: injecting CSS: https://cdn.pydata.org/bokeh/release/bokeh-widgets-0.11.1.min.css\");\n",
       "      Bokeh.embed.inject_css(\"https://cdn.pydata.org/bokeh/release/bokeh-widgets-0.11.1.min.css\");\n",
       "    }\n",
       "  ];\n",
       "\n",
       "  function run_inline_js() {\n",
       "    for (var i = 0; i < inline_js.length; i++) {\n",
       "      inline_js[i](window.Bokeh);\n",
       "    }\n",
       "  }\n",
       "\n",
       "  if (window._bokeh_is_loading === 0) {\n",
       "    console.log(\"Bokeh: BokehJS loaded, going straight to plotting\");\n",
       "    run_inline_js();\n",
       "  } else {\n",
       "    load_libs(js_urls, function() {\n",
       "      console.log(\"Bokeh: BokehJS plotting callback run at\", now());\n",
       "      run_inline_js();\n",
       "    });\n",
       "  }\n",
       "}(this));"
      ]
     },
     "metadata": {},
     "output_type": "display_data"
    },
    {
     "ename": "AttributeError",
     "evalue": "'Figure' object has no attribute 'yaixs'",
     "output_type": "error",
     "traceback": [
      "\u001b[1;31m---------------------------------------------------------------------------\u001b[0m",
      "\u001b[1;31mAttributeError\u001b[0m                            Traceback (most recent call last)",
      "\u001b[1;32m<ipython-input-6-1f6d08900eef>\u001b[0m in \u001b[0;36m<module>\u001b[1;34m()\u001b[0m\n\u001b[1;32m----> 1\u001b[1;33m \u001b[0mts\u001b[0m\u001b[1;33m.\u001b[0m\u001b[0mtimeplot\u001b[0m\u001b[1;33m(\u001b[0m\u001b[0mdata\u001b[0m\u001b[1;33m)\u001b[0m\u001b[1;33m\u001b[0m\u001b[0m\n\u001b[0m",
      "\u001b[1;32mC:\\cse599\\class_project\\class_project\\Analysis\\Timeplotting\\TimeSeries.py\u001b[0m in \u001b[0;36mtimeplot\u001b[1;34m(data)\u001b[0m\n\u001b[0;32m     33\u001b[0m         \u001b[0mp\u001b[0m\u001b[1;33m.\u001b[0m\u001b[0mline\u001b[0m\u001b[1;33m(\u001b[0m\u001b[1;34m'x'\u001b[0m\u001b[1;33m,\u001b[0m \u001b[1;34m'y'\u001b[0m\u001b[1;33m,\u001b[0m \u001b[0msource\u001b[0m \u001b[1;33m=\u001b[0m \u001b[0msource\u001b[0m\u001b[1;33m)\u001b[0m\u001b[1;33m\u001b[0m\u001b[0m\n\u001b[0;32m     34\u001b[0m         \u001b[0mp\u001b[0m\u001b[1;33m.\u001b[0m\u001b[0mxaxis\u001b[0m\u001b[1;33m.\u001b[0m\u001b[0maxis_label\u001b[0m \u001b[1;33m=\u001b[0m \u001b[1;34m\"Time\"\u001b[0m\u001b[1;33m\u001b[0m\u001b[0m\n\u001b[1;32m---> 35\u001b[1;33m         \u001b[0mp\u001b[0m\u001b[1;33m.\u001b[0m\u001b[0myaixs\u001b[0m\u001b[1;33m.\u001b[0m\u001b[0maxis_label\u001b[0m \u001b[1;33m=\u001b[0m \u001b[1;34m\"Selected Y\"\u001b[0m\u001b[1;33m\u001b[0m\u001b[0m\n\u001b[0m\u001b[0;32m     36\u001b[0m \tcallback = CustomJS(args = dict(source = source, columns=source2), code=\"\"\"\n\u001b[0;32m     37\u001b[0m                                 \u001b[0mvar\u001b[0m \u001b[0mdata\u001b[0m \u001b[1;33m=\u001b[0m \u001b[0msource\u001b[0m\u001b[1;33m.\u001b[0m\u001b[0mget\u001b[0m\u001b[1;33m(\u001b[0m\u001b[1;34m'data'\u001b[0m\u001b[1;33m)\u001b[0m\u001b[1;33m;\u001b[0m\u001b[1;33m\u001b[0m\u001b[0m\n",
      "\u001b[1;31mAttributeError\u001b[0m: 'Figure' object has no attribute 'yaixs'"
     ]
    }
   ],
   "source": [
    "ts.timeplot(data)"
   ]
  }
 ],
 "metadata": {
  "kernelspec": {
   "display_name": "Python 3",
   "language": "python",
   "name": "python3"
  },
  "language_info": {
   "codemirror_mode": {
    "name": "ipython",
    "version": 3
   },
   "file_extension": ".py",
   "mimetype": "text/x-python",
   "name": "python",
   "nbconvert_exporter": "python",
   "pygments_lexer": "ipython3",
   "version": "3.5.1"
  }
 },
 "nbformat": 4,
 "nbformat_minor": 0
}
