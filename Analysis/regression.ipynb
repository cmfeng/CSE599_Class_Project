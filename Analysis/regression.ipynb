{
 "cells": [
  {
   "cell_type": "markdown",
   "metadata": {},
   "source": [
    "# Homework 7:  Getting started with regression packages"
   ]
  },
  {
   "cell_type": "markdown",
   "metadata": {},
   "source": [
    "If you have not already done so, run the following command to install the statsmodels package:\n",
    "\n",
    "`easy_install -U statsmodels`\n",
    "\n",
    "Run the following command to install scipy and scikit-learn:\n",
    "\n",
    "`conda install scipy`\n",
    "\n",
    "`conda install scikit-learn`"
   ]
  },
  {
   "cell_type": "markdown",
   "metadata": {},
   "source": [
    "The following function runs a random model with a random independent variable y and four random covariates, using both the statsmodels and scikit-learn packages. The user can compare output from the two tools."
   ]
  },
  {
   "cell_type": "code",
   "execution_count": 1,
   "metadata": {
    "collapsed": false
   },
   "outputs": [
    {
     "name": "stdout",
     "output_type": "stream",
     "text": [
      "statsmodels OLS regression on \n",
      " CO2Sat ~ CH4Sat + ChlARFU + Temp_ta + pH\n",
      "                            OLS Regression Results                            \n",
      "==============================================================================\n",
      "Dep. Variable:                 CO2Sat   R-squared:                       0.617\n",
      "Model:                            OLS   Adj. R-squared:                  0.617\n",
      "Method:                 Least Squares   F-statistic:                 1.027e+04\n",
      "Date:                Wed, 24 Feb 2016   Prob (F-statistic):               0.00\n",
      "Time:                        14:06:26   Log-Likelihood:            -1.3665e+05\n",
      "No. Observations:               25498   AIC:                         2.733e+05\n",
      "Df Residuals:                   25493   BIC:                         2.734e+05\n",
      "Df Model:                           4                                         \n",
      "Covariance Type:            nonrobust                                         \n",
      "==============================================================================\n",
      "                 coef    std err          t      P>|t|      [95.0% Conf. Int.]\n",
      "------------------------------------------------------------------------------\n",
      "Intercept   3785.9977     23.183    163.311      0.000      3740.558  3831.437\n",
      "CH4Sat         0.0127      0.000     65.535      0.000         0.012     0.013\n",
      "ChlARFU        2.0542      0.125     16.445      0.000         1.809     2.299\n",
      "Temp_ta      -28.0997      0.514    -54.658      0.000       -29.107   -27.092\n",
      "pH          -389.9676      2.242   -173.935      0.000      -394.362  -385.573\n",
      "==============================================================================\n",
      "Omnibus:                     7508.097   Durbin-Watson:                   0.025\n",
      "Prob(Omnibus):                  0.000   Jarque-Bera (JB):           280692.244\n",
      "Skew:                           0.733   Prob(JB):                         0.00\n",
      "Kurtosis:                      19.188   Cond. No.                     1.65e+05\n",
      "==============================================================================\n",
      "\n",
      "Warnings:\n",
      "[1] Standard Errors assume that the covariance matrix of the errors is correctly specified.\n",
      "[2] The condition number is large, 1.65e+05. This might indicate that there are\n",
      "strong multicollinearity or other numerical problems.\n",
      "\n",
      "\n",
      "scikit-learn OLS regression on \n",
      " CO2Sat ~ CH4Sat + ChlARFU + Temp_ta + pH\n",
      "3785.99766396\n",
      "[  1.26558848e-02   2.05415133e+00  -2.80997259e+01  -3.89967623e+02]\n",
      "0.616988245442\n"
     ]
    }
   ],
   "source": [
    "from regression import compare_OLS\n",
    "compare_OLS()"
   ]
  },
  {
   "cell_type": "markdown",
   "metadata": {},
   "source": [
    "The two models produce the same results. \n",
    "\n",
    "There is no standard regression table type output from sklearn. However, sklearn offers greater features for prediction, by incorporating machine learning functionality. For that reason, we will likely wish to use both packages, for different purposes."
   ]
  },
  {
   "cell_type": "code",
   "execution_count": null,
   "metadata": {
    "collapsed": true
   },
   "outputs": [],
   "source": []
  }
 ],
 "metadata": {
  "kernelspec": {
   "display_name": "Python 3",
   "language": "python",
   "name": "python3"
  },
  "language_info": {
   "codemirror_mode": {
    "name": "ipython",
    "version": 3
   },
   "file_extension": ".py",
   "mimetype": "text/x-python",
   "name": "python",
   "nbconvert_exporter": "python",
   "pygments_lexer": "ipython3",
   "version": "3.5.0"
  }
 },
 "nbformat": 4,
 "nbformat_minor": 0
}
