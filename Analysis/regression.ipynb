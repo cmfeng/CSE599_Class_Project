{
 "cells": [
  {
   "cell_type": "markdown",
   "metadata": {},
   "source": [
    "# Regression functions demo notebook"
   ]
  },
  {
   "cell_type": "markdown",
   "metadata": {},
   "source": [
    "If you have not already done so, run the following command to install the statsmodels package:\n",
    "\n",
    "`easy_install -U statsmodels`\n",
    "\n",
    "Run the following command to install scipy and scikit-learn:\n",
    "\n",
    "`conda install scipy`\n",
    "\n",
    "`conda install scikit-learn`"
   ]
  },
  {
   "cell_type": "markdown",
   "metadata": {},
   "source": [
    "Use the data cleaning package to import a data set:"
   ]
  },
  {
   "cell_type": "code",
   "execution_count": null,
   "metadata": {
    "collapsed": false
   },
   "outputs": [],
   "source": [
    "from data_cleaning_utils import import_data\n",
    "dat = import_data('../Data/mississippi/pool82014-10-02cleaned.csv')"
   ]
  },
  {
   "cell_type": "markdown",
   "metadata": {},
   "source": [
    "The following function runs a random model with a random independent variable y and four random covariates, using both the statsmodels and scikit-learn packages. The user can compare output from the two tools."
   ]
  },
  {
   "cell_type": "code",
   "execution_count": null,
   "metadata": {
    "collapsed": false
   },
   "outputs": [],
   "source": [
    "from regression import compare_OLS\n",
    "compare_OLS(dat)"
   ]
  },
  {
   "cell_type": "markdown",
   "metadata": {},
   "source": [
    "The two models produce the same results. \n",
    "\n",
    "There is no standard regression table type output from sklearn. However, sklearn offers greater features for prediction, by incorporating machine learning functionality. For that reason, we will likely wish to use both packages, for different purposes."
   ]
  },
  {
   "cell_type": "markdown",
   "metadata": {},
   "source": [
    "The `user_model` function prompts the user to input a model formula for an OLS regression, then runs the model in `statsmodel`, and outputs model results and a plot of y data vs. model fitted values.\n",
    "\n",
    "At the prompt, you may either input your own model formula, or copy and paste the following formula as an example:\n",
    "\n",
    "`CO2uM ~ TempC + ChlAugL + SPCuScm + NITRATEM`"
   ]
  },
  {
   "cell_type": "code",
   "execution_count": null,
   "metadata": {
    "collapsed": false,
    "scrolled": true
   },
   "outputs": [],
   "source": [
    "%matplotlib inline\n",
    "from regression import user_model\n",
    "user_model(data=dat)"
   ]
  },
  {
   "cell_type": "code",
   "execution_count": 1,
   "metadata": {
    "collapsed": false
   },
   "outputs": [
    {
     "name": "stdout",
     "output_type": "stream",
     "text": [
      "Index(['FID', 'time', 'XCO2Dpp', 'XCH4Dpp', 'TempC', 'SPCuScm', 'ChlARFU',\n",
      "       'ChlAugL', 'BGAPCRF', 'BGAPCuL', 'TurbFNU', 'fDOMRFU', 'fDOMQSU',\n",
      "       'ODOsat', 'ODOmgL', 'pH', 'Pressps', 'NITRATEU', 'NITRATEM', 'ABS254',\n",
      "       'ABS350', 'TINT', 'TSPEC', 'TLAMP', 'Temp_ta', 'SPC_tau', 'pH_tau',\n",
      "       'fDOM_QS', 'ODO_tau', 'ChlA_ta', 'Turb_ta', 'CO2_tau', 'CH4uM',\n",
      "       'CH4Sat', 'CO2uM', 'CO2Sat', 'CO2uM_t', 'CO2St_t'],\n",
      "      dtype='object')\n",
      "datetime column name? time\n"
     ]
    }
   ],
   "source": [
    "from __future__ import print_function\n",
    "\n",
    "import os\n",
    "import pandas as pd\n",
    "import numpy as np\n",
    "import random\n",
    "import math\n",
    "import matplotlib.pyplot as plt\n",
    "\n",
    "import statsmodels.api as sm\n",
    "import statsmodels.formula.api as smf\n",
    "from statsmodels.sandbox.regression.predstd import wls_prediction_std\n",
    "\n",
    "from sklearn import linear_model\n",
    "from sklearn.linear_model import LinearRegression\n",
    "\n",
    "import seaborn as sns; sns.set(style=\"ticks\", color_codes=True)\n",
    "\n",
    "%matplotlib inline\n",
    "\n",
    "from data_cleaning_utils import import_data\n",
    "data = import_data('../Data/mississippi/pool82014-10-02cleaned.csv')\n",
    "\n",
    "from regression import correl"
   ]
  },
  {
   "cell_type": "code",
   "execution_count": 30,
   "metadata": {
    "collapsed": true
   },
   "outputs": [],
   "source": [
    "floatVars = list(data.columns[data.dtypes == 'float64'])\n",
    "# floatVars.remove('FID')\n",
    "floatData = data[floatVars]\n",
    "nParams = len(floatVars)\n",
    "\n",
    "largeCorrX = []\n",
    "largeCorrY = []\n",
    "\n",
    "for i in range(0, nParams):\n",
    "    for j in range(i+1, nParams):\n",
    "        corr = correl(floatData.iloc[:,i], floatData.iloc[:,j])\n",
    "        if 0.2 < abs(corr) < 0.9:\n",
    "                largeCorrX.append(floatVars[i])\n",
    "                largeCorrY.append(floatVars[j])\n",
    "uniqueX = list(np.unique(largeCorrX))\n",
    "\n",
    "corrs = pd.DataFrame(largeCorrX, largeCorrY).reset_index()\n",
    "corrs.columns = ['x','y']"
   ]
  },
  {
   "cell_type": "code",
   "execution_count": 87,
   "metadata": {
    "collapsed": false
   },
   "outputs": [],
   "source": [
    "sets = []\n",
    "setlist = []\n",
    "for i in range(0, len(uniqueX)):\n",
    "    y = corrs.y[corrs.x == uniqueX[i]]\n",
    "    sets = list(corrs.y[corrs.x == uniqueX[i]])\n",
    "    sets.append(uniqueX[i])\n",
    "    setlist.append(sets)\n",
    "#    sns.pairplot(data[set])"
   ]
  },
  {
   "cell_type": "code",
   "execution_count": 117,
   "metadata": {
    "collapsed": false
   },
   "outputs": [],
   "source": [
    "i = 0\n",
    "while i < len(setlist):\n",
    "    if len(setlist[i]) == 1:\n",
    "        setlist.remove(setlist[i])\n",
    "    else:\n",
    "        i = i+1"
   ]
  },
  {
   "cell_type": "code",
   "execution_count": 132,
   "metadata": {
    "collapsed": false
   },
   "outputs": [],
   "source": [
    "i = 0\n",
    "while i < len(setlist):\n",
    "    j = 0\n",
    "    while j < len(setlist):\n",
    "        if j == i:\n",
    "            j = j+1\n",
    "        else:\n",
    "            if all(x in setlist[j] for x in setlist[i]):\n",
    "                  setlist.remove(setlist[i])\n",
    "            j = j+1\n",
    "    i = i+1"
   ]
  },
  {
   "cell_type": "code",
   "execution_count": 133,
   "metadata": {
    "collapsed": false
   },
   "outputs": [
    {
     "data": {
      "text/plain": [
       "14"
      ]
     },
     "execution_count": 133,
     "metadata": {},
     "output_type": "execute_result"
    }
   ],
   "source": [
    "len(setlist)"
   ]
  },
  {
   "cell_type": "code",
   "execution_count": 134,
   "metadata": {
    "collapsed": false
   },
   "outputs": [
    {
     "data": {
      "text/plain": [
       "[['XCO2Dpp', 'ODOsat', 'ODOmgL', 'ODO_tau', 'CH4uM'],\n",
       " ['XCH4Dpp',\n",
       "  'SPCuScm',\n",
       "  'ODOsat',\n",
       "  'ODOmgL',\n",
       "  'pH',\n",
       "  'Pressps',\n",
       "  'SPC_tau',\n",
       "  'pH_tau',\n",
       "  'ODO_tau',\n",
       "  'CH4uM',\n",
       "  'CH4Sat',\n",
       "  'CO2Sat'],\n",
       " ['XCH4Dpp',\n",
       "  'SPCuScm',\n",
       "  'ODOsat',\n",
       "  'ODOmgL',\n",
       "  'pH',\n",
       "  'Pressps',\n",
       "  'SPC_tau',\n",
       "  'pH_tau',\n",
       "  'ODO_tau',\n",
       "  'CH4uM',\n",
       "  'CH4Sat',\n",
       "  'CO2uM'],\n",
       " ['XCO2Dpp',\n",
       "  'XCH4Dpp',\n",
       "  'TempC',\n",
       "  'SPCuScm',\n",
       "  'ChlARFU',\n",
       "  'ChlAugL',\n",
       "  'BGAPCRF',\n",
       "  'BGAPCuL',\n",
       "  'fDOMRFU',\n",
       "  'fDOMQSU',\n",
       "  'pH',\n",
       "  'Temp_ta',\n",
       "  'SPC_tau',\n",
       "  'pH_tau',\n",
       "  'fDOM_QS',\n",
       "  'ODO_tau'],\n",
       " ['XCO2Dpp',\n",
       "  'XCH4Dpp',\n",
       "  'TempC',\n",
       "  'SPCuScm',\n",
       "  'ChlARFU',\n",
       "  'ChlAugL',\n",
       "  'BGAPCRF',\n",
       "  'BGAPCuL',\n",
       "  'fDOMRFU',\n",
       "  'fDOMQSU',\n",
       "  'ODOmgL'],\n",
       " ['XCO2Dpp',\n",
       "  'XCH4Dpp',\n",
       "  'TempC',\n",
       "  'SPCuScm',\n",
       "  'ChlARFU',\n",
       "  'ChlAugL',\n",
       "  'BGAPCRF',\n",
       "  'BGAPCuL',\n",
       "  'fDOMRFU',\n",
       "  'fDOMQSU',\n",
       "  'ODOsat'],\n",
       " ['XCO2Dpp', 'fDOMRFU', 'fDOMQSU', 'Pressps'],\n",
       " ['XCO2Dpp',\n",
       "  'TempC',\n",
       "  'fDOMRFU',\n",
       "  'fDOMQSU',\n",
       "  'ODOsat',\n",
       "  'ODOmgL',\n",
       "  'pH',\n",
       "  'Temp_ta',\n",
       "  'SPC_tau'],\n",
       " ['SPCuScm', 'fDOMRFU', 'fDOMQSU', 'ODOsat', 'ODOmgL', 'pH', 'Temp_ta'],\n",
       " ['TempC',\n",
       "  'SPCuScm',\n",
       "  'ChlARFU',\n",
       "  'ChlAugL',\n",
       "  'BGAPCRF',\n",
       "  'BGAPCuL',\n",
       "  'TurbFNU',\n",
       "  'fDOMQSU'],\n",
       " ['TempC',\n",
       "  'SPCuScm',\n",
       "  'ChlARFU',\n",
       "  'ChlAugL',\n",
       "  'BGAPCRF',\n",
       "  'BGAPCuL',\n",
       "  'TurbFNU',\n",
       "  'fDOMRFU'],\n",
       " ['TempC',\n",
       "  'SPCuScm',\n",
       "  'ChlARFU',\n",
       "  'ChlAugL',\n",
       "  'BGAPCRF',\n",
       "  'BGAPCuL',\n",
       "  'TurbFNU',\n",
       "  'ODOsat',\n",
       "  'ODOmgL',\n",
       "  'pH',\n",
       "  'Pressps',\n",
       "  'Temp_ta',\n",
       "  'SPC_tau',\n",
       "  'fDOM_QS'],\n",
       " ['XCO2Dpp',\n",
       "  'TempC',\n",
       "  'SPCuScm',\n",
       "  'fDOMRFU',\n",
       "  'fDOMQSU',\n",
       "  'ODOsat',\n",
       "  'ODOmgL',\n",
       "  'pH'],\n",
       " ['XCO2Dpp', 'ODOsat', 'ODOmgL', 'pH', 'pH_tau']]"
      ]
     },
     "execution_count": 134,
     "metadata": {},
     "output_type": "execute_result"
    }
   ],
   "source": [
    "setlist"
   ]
  },
  {
   "cell_type": "code",
   "execution_count": null,
   "metadata": {
    "collapsed": true
   },
   "outputs": [],
   "source": []
  }
 ],
 "metadata": {
  "kernelspec": {
   "display_name": "Python 3",
   "language": "python",
   "name": "python3"
  },
  "language_info": {
   "codemirror_mode": {
    "name": "ipython",
    "version": 3
   },
   "file_extension": ".py",
   "mimetype": "text/x-python",
   "name": "python",
   "nbconvert_exporter": "python",
   "pygments_lexer": "ipython3",
   "version": "3.5.0"
  }
 },
 "nbformat": 4,
 "nbformat_minor": 0
}
