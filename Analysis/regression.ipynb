{
 "cells": [
  {
   "cell_type": "markdown",
   "metadata": {},
   "source": [
    "# Homework 7:  Getting started with regression packages"
   ]
  },
  {
   "cell_type": "markdown",
   "metadata": {},
   "source": [
    "If you have not already done so, run the following command to install the statsmodels package:\n",
    "\n",
    "`easy_install -U statsmodels`\n",
    "\n",
    "Run the following command to install scipy and scikit-learn:\n",
    "\n",
    "`conda install scipy`\n",
    "\n",
    "`conda install scikit-learn`"
   ]
  },
  {
   "cell_type": "markdown",
   "metadata": {},
   "source": [
    "The following function runs a random model with a random independent variable y and four random covariates, using both the statsmodels and scikit-learn packages. The user can compare output from the two tools."
   ]
  },
  {
   "cell_type": "code",
   "execution_count": 1,
   "metadata": {
    "collapsed": false
   },
   "outputs": [
    {
     "name": "stdout",
     "output_type": "stream",
     "text": [
      "statsmodels OLS regression on \n",
      " CH4uM ~ BGAPCuL + ODO_tau + ODOsat + pH_tau\n",
      "\n",
      "                             OLS Regression Results                            \n",
      "==============================================================================\n",
      "Dep. Variable:                  CH4uM   R-squared:                       0.189\n",
      "Model:                            OLS   Adj. R-squared:                  0.189\n",
      "Method:                 Least Squares   F-statistic:                     1488.\n",
      "Date:                Wed, 24 Feb 2016   Prob (F-statistic):               0.00\n",
      "Time:                        15:57:37   Log-Likelihood:                 40236.\n",
      "No. Observations:               25498   AIC:                        -8.046e+04\n",
      "Df Residuals:                   25493   BIC:                        -8.042e+04\n",
      "Df Model:                           4                                         \n",
      "Covariance Type:            nonrobust                                         \n",
      "==============================================================================\n",
      "                 coef    std err          t      P>|t|      [95.0% Conf. Int.]\n",
      "------------------------------------------------------------------------------\n",
      "Intercept      0.2627      0.005     47.977      0.000         0.252     0.273\n",
      "BGAPCuL       -0.0050      0.000    -14.450      0.000        -0.006    -0.004\n",
      "ODO_tau       -0.0003      0.000     -2.094      0.036        -0.001 -2.17e-05\n",
      "ODOsat        -0.0030      0.000    -18.032      0.000        -0.003    -0.003\n",
      "pH_tau         0.0082      0.001     12.697      0.000         0.007     0.009\n",
      "==============================================================================\n",
      "Omnibus:                    26964.375   Durbin-Watson:                   0.017\n",
      "Prob(Omnibus):                  0.000   Jarque-Bera (JB):          2660265.887\n",
      "Skew:                           5.242   Prob(JB):                         0.00\n",
      "Kurtosis:                      51.929   Cond. No.                     2.15e+03\n",
      "==============================================================================\n",
      "\n",
      "Warnings:\n",
      "[1] Standard Errors assume that the covariance matrix of the errors is correctly specified.\n",
      "[2] The condition number is large, 2.15e+03. This might indicate that there are\n",
      "strong multicollinearity or other numerical problems. \n",
      "\n",
      "scikit-learn OLS regression on \n",
      " CH4uM ~ BGAPCuL + ODO_tau + ODOsat + pH_tau \n",
      "\n",
      "0.262723760524\n",
      "[-0.00495116 -0.00033848 -0.00297227  0.0081899 ]\n",
      "0.189279004404\n"
     ]
    }
   ],
   "source": [
    "from regression import compare_OLS\n",
    "compare_OLS()"
   ]
  },
  {
   "cell_type": "markdown",
   "metadata": {},
   "source": [
    "The two models produce the same results. \n",
    "\n",
    "There is no standard regression table type output from sklearn. However, sklearn offers greater features for prediction, by incorporating machine learning functionality. For that reason, we will likely wish to use both packages, for different purposes."
   ]
  },
  {
   "cell_type": "code",
   "execution_count": null,
   "metadata": {
    "collapsed": true
   },
   "outputs": [],
   "source": []
  }
 ],
 "metadata": {
  "kernelspec": {
   "display_name": "Python 3",
   "language": "python",
   "name": "python3"
  },
  "language_info": {
   "codemirror_mode": {
    "name": "ipython",
    "version": 3
   },
   "file_extension": ".py",
   "mimetype": "text/x-python",
   "name": "python",
   "nbconvert_exporter": "python",
   "pygments_lexer": "ipython3",
   "version": "3.5.0"
  }
 },
 "nbformat": 4,
 "nbformat_minor": 0
}
