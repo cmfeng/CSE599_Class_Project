{
 "cells": [
  {
   "cell_type": "code",
   "execution_count": 1,
   "metadata": {
    "collapsed": false
   },
   "outputs": [
    {
     "name": "stdout",
     "output_type": "stream",
     "text": [
      "/Users/Will/Documents/GITHUB/class_project/class_project/HW7\n"
     ]
    }
   ],
   "source": [
    "cd /Users/Will/Documents/GITHUB/class_project/class_project/HW7"
   ]
  },
  {
   "cell_type": "code",
   "execution_count": 13,
   "metadata": {
    "collapsed": false
   },
   "outputs": [],
   "source": [
    "from data_cleaning_utils import *\n",
    "import matplotlib.pyplot as plt\n",
    "%matplotlib inline"
   ]
  },
  {
   "cell_type": "markdown",
   "metadata": {},
   "source": [
    "This is a quick notebook designed to show the functions within the data_cleaning_utils.py  There are 3 main functions:\n",
    "\n",
    "* data import tool\n",
    "* data smoothing tool\n",
    "* resampling tool\n",
    "\n",
    "right now, each function is written to run individually, but can be modified so that they aren't re-run each time"
   ]
  },
  {
   "cell_type": "code",
   "execution_count": 3,
   "metadata": {
    "collapsed": false
   },
   "outputs": [
    {
     "name": "stdout",
     "output_type": "stream",
     "text": [
      "/Users/Will/Documents/GITHUB/class_project/class_project/Data/Amazon\n"
     ]
    }
   ],
   "source": [
    "cd /Users/Will/Documents/GITHUB/class_project/class_project/Data/Amazon"
   ]
  },
  {
   "cell_type": "code",
   "execution_count": 4,
   "metadata": {
    "collapsed": false
   },
   "outputs": [
    {
     "name": "stdout",
     "output_type": "stream",
     "text": [
      "datetime column name? datetime\n"
     ]
    }
   ],
   "source": [
    "raw = import_data()"
   ]
  },
  {
   "cell_type": "code",
   "execution_count": 5,
   "metadata": {
    "collapsed": false
   },
   "outputs": [
    {
     "data": {
      "text/html": [
       "<div>\n",
       "<table border=\"1\" class=\"dataframe\">\n",
       "  <thead>\n",
       "    <tr style=\"text-align: right;\">\n",
       "      <th></th>\n",
       "      <th>date</th>\n",
       "      <th>time</th>\n",
       "      <th>datetime</th>\n",
       "      <th>battery</th>\n",
       "      <th>fdom_rfu</th>\n",
       "      <th>fdom_qsu</th>\n",
       "      <th>ODO_percent</th>\n",
       "      <th>ODO_mg_L</th>\n",
       "      <th>Temp</th>\n",
       "      <th>Cond_us_cm</th>\n",
       "      <th>pH</th>\n",
       "    </tr>\n",
       "    <tr>\n",
       "      <th>datetime</th>\n",
       "      <th></th>\n",
       "      <th></th>\n",
       "      <th></th>\n",
       "      <th></th>\n",
       "      <th></th>\n",
       "      <th></th>\n",
       "      <th></th>\n",
       "      <th></th>\n",
       "      <th></th>\n",
       "      <th></th>\n",
       "      <th></th>\n",
       "    </tr>\n",
       "  </thead>\n",
       "  <tbody>\n",
       "    <tr>\n",
       "      <th>2014-11-01 22:35:00</th>\n",
       "      <td>11/1/14</td>\n",
       "      <td>22:35:07</td>\n",
       "      <td>2014-11-01 22:35:00</td>\n",
       "      <td>6.1</td>\n",
       "      <td>-4.67</td>\n",
       "      <td>20.91</td>\n",
       "      <td>96.8</td>\n",
       "      <td>7.29</td>\n",
       "      <td>30.172</td>\n",
       "      <td>52</td>\n",
       "      <td>7.04</td>\n",
       "    </tr>\n",
       "    <tr>\n",
       "      <th>2014-11-01 22:35:00</th>\n",
       "      <td>11/1/14</td>\n",
       "      <td>22:35:08</td>\n",
       "      <td>2014-11-01 22:35:00</td>\n",
       "      <td>6.1</td>\n",
       "      <td>-4.65</td>\n",
       "      <td>20.97</td>\n",
       "      <td>96.8</td>\n",
       "      <td>7.29</td>\n",
       "      <td>30.172</td>\n",
       "      <td>52</td>\n",
       "      <td>7.04</td>\n",
       "    </tr>\n",
       "    <tr>\n",
       "      <th>2014-11-01 22:35:00</th>\n",
       "      <td>11/1/14</td>\n",
       "      <td>22:35:09</td>\n",
       "      <td>2014-11-01 22:35:00</td>\n",
       "      <td>6.1</td>\n",
       "      <td>-4.63</td>\n",
       "      <td>21.02</td>\n",
       "      <td>96.8</td>\n",
       "      <td>7.29</td>\n",
       "      <td>30.172</td>\n",
       "      <td>52</td>\n",
       "      <td>7.05</td>\n",
       "    </tr>\n",
       "    <tr>\n",
       "      <th>2014-11-01 22:35:00</th>\n",
       "      <td>11/1/14</td>\n",
       "      <td>22:35:10</td>\n",
       "      <td>2014-11-01 22:35:00</td>\n",
       "      <td>6.1</td>\n",
       "      <td>-4.62</td>\n",
       "      <td>21.07</td>\n",
       "      <td>96.8</td>\n",
       "      <td>7.29</td>\n",
       "      <td>30.172</td>\n",
       "      <td>52</td>\n",
       "      <td>7.05</td>\n",
       "    </tr>\n",
       "    <tr>\n",
       "      <th>2014-11-01 22:35:00</th>\n",
       "      <td>11/1/14</td>\n",
       "      <td>22:35:11</td>\n",
       "      <td>2014-11-01 22:35:00</td>\n",
       "      <td>6.1</td>\n",
       "      <td>-4.61</td>\n",
       "      <td>21.08</td>\n",
       "      <td>96.7</td>\n",
       "      <td>7.29</td>\n",
       "      <td>30.172</td>\n",
       "      <td>52</td>\n",
       "      <td>7.05</td>\n",
       "    </tr>\n",
       "  </tbody>\n",
       "</table>\n",
       "</div>"
      ],
      "text/plain": [
       "                        date      time            datetime  battery  fdom_rfu  \\\n",
       "datetime                                                                        \n",
       "2014-11-01 22:35:00  11/1/14  22:35:07 2014-11-01 22:35:00      6.1     -4.67   \n",
       "2014-11-01 22:35:00  11/1/14  22:35:08 2014-11-01 22:35:00      6.1     -4.65   \n",
       "2014-11-01 22:35:00  11/1/14  22:35:09 2014-11-01 22:35:00      6.1     -4.63   \n",
       "2014-11-01 22:35:00  11/1/14  22:35:10 2014-11-01 22:35:00      6.1     -4.62   \n",
       "2014-11-01 22:35:00  11/1/14  22:35:11 2014-11-01 22:35:00      6.1     -4.61   \n",
       "\n",
       "                     fdom_qsu  ODO_percent  ODO_mg_L    Temp  Cond_us_cm    pH  \n",
       "datetime                                                                        \n",
       "2014-11-01 22:35:00     20.91         96.8      7.29  30.172          52  7.04  \n",
       "2014-11-01 22:35:00     20.97         96.8      7.29  30.172          52  7.04  \n",
       "2014-11-01 22:35:00     21.02         96.8      7.29  30.172          52  7.05  \n",
       "2014-11-01 22:35:00     21.07         96.8      7.29  30.172          52  7.05  \n",
       "2014-11-01 22:35:00     21.08         96.7      7.29  30.172          52  7.05  "
      ]
     },
     "execution_count": 5,
     "metadata": {},
     "output_type": "execute_result"
    }
   ],
   "source": [
    "raw.head()"
   ]
  },
  {
   "cell_type": "code",
   "execution_count": 16,
   "metadata": {
    "collapsed": false
   },
   "outputs": [
    {
     "name": "stdout",
     "output_type": "stream",
     "text": [
      "datetime column name? datetime\n",
      "What size windows do you want for the moving average? 45\n"
     ]
    },
    {
     "data": {
      "image/png": "[encoded data removed]",
      "text/plain": [
       "<matplotlib.figure.Figure at 0x11a1cb518>"
      ]
     },
     "metadata": {},
     "output_type": "display_data"
    }
   ],
   "source": [
    "smooth = smooth_data(\"pH\")"
   ]
  },
  {
   "cell_type": "code",
   "execution_count": 9,
   "metadata": {
    "collapsed": false
   },
   "outputs": [
    {
     "name": "stdout",
     "output_type": "stream",
     "text": [
      "datetime column name? datetime\n",
      "What size windows do you want for the moving average? 45\n",
      "What frequency would you like to resample to? Format = XS(seconds), XT(minutes)3T\n",
      "3258772\n",
      "14384\n"
     ]
    }
   ],
   "source": [
    "reduced = reducer()"
   ]
  },
  {
   "cell_type": "code",
   "execution_count": 10,
   "metadata": {
    "collapsed": false
   },
   "outputs": [
    {
     "data": {
      "text/html": [
       "<div>\n",
       "<table border=\"1\" class=\"dataframe\">\n",
       "  <thead>\n",
       "    <tr style=\"text-align: right;\">\n",
       "      <th></th>\n",
       "      <th>battery</th>\n",
       "      <th>fdom_rfu</th>\n",
       "      <th>fdom_qsu</th>\n",
       "      <th>ODO_percent</th>\n",
       "      <th>ODO_mg_L</th>\n",
       "      <th>Temp</th>\n",
       "      <th>Cond_us_cm</th>\n",
       "      <th>pH</th>\n",
       "    </tr>\n",
       "    <tr>\n",
       "      <th>datetime</th>\n",
       "      <th></th>\n",
       "      <th></th>\n",
       "      <th></th>\n",
       "      <th></th>\n",
       "      <th></th>\n",
       "      <th></th>\n",
       "      <th></th>\n",
       "      <th></th>\n",
       "    </tr>\n",
       "  </thead>\n",
       "  <tbody>\n",
       "    <tr>\n",
       "      <th>2014-11-01 22:33:00</th>\n",
       "      <td>6.1</td>\n",
       "      <td>-2.716415</td>\n",
       "      <td>26.768868</td>\n",
       "      <td>95.909434</td>\n",
       "      <td>7.227925</td>\n",
       "      <td>30.169962</td>\n",
       "      <td>52.000000</td>\n",
       "      <td>7.040815</td>\n",
       "    </tr>\n",
       "    <tr>\n",
       "      <th>2014-11-01 22:36:00</th>\n",
       "      <td>6.1</td>\n",
       "      <td>-1.824833</td>\n",
       "      <td>29.442611</td>\n",
       "      <td>95.642222</td>\n",
       "      <td>7.208611</td>\n",
       "      <td>30.160289</td>\n",
       "      <td>52.000000</td>\n",
       "      <td>7.044889</td>\n",
       "    </tr>\n",
       "    <tr>\n",
       "      <th>2014-11-01 22:39:00</th>\n",
       "      <td>6.1</td>\n",
       "      <td>-1.629944</td>\n",
       "      <td>30.027056</td>\n",
       "      <td>95.163333</td>\n",
       "      <td>7.176056</td>\n",
       "      <td>30.133572</td>\n",
       "      <td>52.000000</td>\n",
       "      <td>7.050537</td>\n",
       "    </tr>\n",
       "    <tr>\n",
       "      <th>2014-11-01 22:42:00</th>\n",
       "      <td>6.1</td>\n",
       "      <td>-3.172333</td>\n",
       "      <td>25.399500</td>\n",
       "      <td>94.136111</td>\n",
       "      <td>7.098222</td>\n",
       "      <td>30.138600</td>\n",
       "      <td>52.416667</td>\n",
       "      <td>7.051852</td>\n",
       "    </tr>\n",
       "    <tr>\n",
       "      <th>2014-11-01 22:45:00</th>\n",
       "      <td>6.1</td>\n",
       "      <td>-2.010500</td>\n",
       "      <td>28.885222</td>\n",
       "      <td>93.510556</td>\n",
       "      <td>7.053944</td>\n",
       "      <td>30.116406</td>\n",
       "      <td>53.000000</td>\n",
       "      <td>7.049222</td>\n",
       "    </tr>\n",
       "  </tbody>\n",
       "</table>\n",
       "</div>"
      ],
      "text/plain": [
       "                     battery  fdom_rfu   fdom_qsu  ODO_percent  ODO_mg_L  \\\n",
       "datetime                                                                   \n",
       "2014-11-01 22:33:00      6.1 -2.716415  26.768868    95.909434  7.227925   \n",
       "2014-11-01 22:36:00      6.1 -1.824833  29.442611    95.642222  7.208611   \n",
       "2014-11-01 22:39:00      6.1 -1.629944  30.027056    95.163333  7.176056   \n",
       "2014-11-01 22:42:00      6.1 -3.172333  25.399500    94.136111  7.098222   \n",
       "2014-11-01 22:45:00      6.1 -2.010500  28.885222    93.510556  7.053944   \n",
       "\n",
       "                          Temp  Cond_us_cm        pH  \n",
       "datetime                                              \n",
       "2014-11-01 22:33:00  30.169962   52.000000  7.040815  \n",
       "2014-11-01 22:36:00  30.160289   52.000000  7.044889  \n",
       "2014-11-01 22:39:00  30.133572   52.000000  7.050537  \n",
       "2014-11-01 22:42:00  30.138600   52.416667  7.051852  \n",
       "2014-11-01 22:45:00  30.116406   53.000000  7.049222  "
      ]
     },
     "execution_count": 10,
     "metadata": {},
     "output_type": "execute_result"
    }
   ],
   "source": [
    "reduced.head()"
   ]
  }
 ],
 "metadata": {
  "kernelspec": {
   "display_name": "Python 3",
   "language": "python",
   "name": "python3"
  },
  "language_info": {
   "codemirror_mode": {
    "name": "ipython",
    "version": 3
   },
   "file_extension": ".py",
   "mimetype": "text/x-python",
   "name": "python",
   "nbconvert_exporter": "python",
   "pygments_lexer": "ipython3",
   "version": "3.5.1"
  }
 },
 "nbformat": 4,
 "nbformat_minor": 0
}
